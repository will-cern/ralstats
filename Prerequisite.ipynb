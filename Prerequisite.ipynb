{
 "cells": [
  {
   "cell_type": "markdown",
   "id": "af23fec9",
   "metadata": {},
   "source": [
    "# RAL \"Statistical Analysis Lab\" Prerequesite Material\n",
    "\n",
    "Please get yourself familiar with the following terminology and basic `RooFit` functionality."
   ]
  },
  {
   "cell_type": "code",
   "execution_count": null,
   "id": "14adcd9e",
   "metadata": {},
   "outputs": [],
   "source": [
    "import roofitbasics as rs\n",
    "import ROOT"
   ]
  },
  {
   "cell_type": "markdown",
   "id": "deabe956",
   "metadata": {},
   "source": [
    "## Basic Statistical Analysis Terminology\n",
    "\n",
    "Here are some generic definitions of things involved with statistical analysis. Make sure you understand them abstractly before we go on to see how they are represented in `RooFit`:\n",
    "\n",
    "| Term | Description |\n",
    "|------|-------------|\n",
    "| Variable | A fundamental type that has a value. They are often a continuous real-valued quantity but can also be a discrete (categorical) valued quantity. |\n",
    "| Observable | A variable that features in a dataset, representing a measurable quantity.  |\n",
    "| Global Observable | A special type of observable in a dataset that takes a value that is independent of the events, so it has the same value for every event and is defined even if the dataset has no events in it. |\n",
    "| Dataset | A collection of events that each have a set of values for the non-global observables of the dataset, and potentially also a weight. The dataset may also have a collection of global observable values. Think of the events like rows (entries) in a table and the non-global observables are the columns. The global observables are an extra set of values that sit alongside the table. Examples of non-globable observables are channel category and bin number. An example of a global observable is the integrated luminosity. |\n",
    "| PDF | A function of variables that, when evaluated, will return a probability density defined over a particular subset of the variables that is called the *normalization set* of the PDF. All the variables in the normalization set are considered to be observables. \n",
    "| Parameter | A variable of a function that is not an observable (i.e. for PDFs is a variable of the PDF that is not in the normalization set).\n",
    "| Likelihood | A function of parameters defined by the combination of a PDF with a Dataset (the observables of the dataset define the normalization set of the PDF). The value of the likelihood function = $p(g)\\prod_i p(o_{i})^{w_i}$ (where $g$ are the global observables, $o_i$ and $w_i$ are the observables and weight respectively of the ith entry of the dataset) and often the Negative Log Likelihood (NLL) is evaluated instead: -($\\Sigma_i w_i log(p(o_i)) +log(p(g)))$\n",
    "\n",
    "\n",
    "In RooFit (as well as most other statistical analysis packages) the actual value of the likelihood function may not correspond to precisely the likelihood, but may instead include a multiplicative factor (additive in NLL) that depends only on data (i.e. does not depend on the parameters). This is acceptable because it is never the absolute value of likelihood that we are interested in, but we study likelihood ratios and delta-log-likelihood, so this factor cancels out. \n",
    "\n",
    "Datasets can be binned or unbinned. When a dataset is binned this means all the events that fall in a given bin of some observable are combined into a single entry, with the observable value normally chosen to be the bin center, and the entry's weight equal to the sum (of weights) of the events in the bin. \n"
   ]
  },
  {
   "cell_type": "markdown",
   "id": "aeae04c8",
   "metadata": {},
   "source": [
    "## Basic RooFit functionality\n",
    "\n",
    "This notebook will cover only the essential RooFit concepts that you need to understand for the following statistical analysis tutorial. RooFit has a vast set of capabilities and functionality, and this notebook is careful to tread a particular path through the toolkit to expose you to only the essential concepts and **nothing more**. Please do not be afraid to stray from the path if you are interested in exploring further, but know that, sadly, what you find in other parts of RooFit do not always appear to be what they seem or behave how you might first think.\n",
    "\n",
    "The headings of each section contain links to the ROOT documentation of those classes (note the documentation always refers to the C++ classes, which we are accessing via ROOT's python bindings)."
   ]
  },
  {
   "cell_type": "markdown",
   "id": "f880bfef",
   "metadata": {},
   "source": [
    "### Variables: [RooRealVar](https://root.cern.ch/doc/v624/classRooRealVar.html) and [RooCategory](https://root.cern.ch/doc/v624/classRooCategory.html)\n",
    "There are two fundamental variables types in `RooFit`:\n",
    "\n",
    "  1. `RooRealVar` is a continuous variable, with an optional range defined by a lower and upper bound. They can also be optionally given an associated error. It can also have a binning, which can be relevent for observables, but this is not a feature we will make use of.\n",
    "  2. `RooCategory`is a discrete variable with a defined set of possible values.\n",
    "  \n",
    "`RooRealVar` will appear as parameters of functions and as observables in datasets. `RooCategory` you will only encounter being used as an observable that identifies which *channel* an event lives in (the discrete values represent the different channels). Since we won't encounter them otherwise, we will focus on interacting with `RooRealVar`:\n",
    "\n",
    "| Method | Description |\n",
    "|--------|-------------|\n",
    "|`v.GetName()`| Name of the variable |\n",
    "|`v.ClassName()` | Type of the variable as a string (return \"RooRealVar\" for continuous, \"RooCategory\" for discrete) |\n",
    "|`r.getVal()`| Access current value of a `RooRealVar`|\n",
    "|`c.getIndex()`| Access current value of a `RooCategory`|\n",
    "|`r.setConstant(True)`| Mark the var constant (use `False` to mark it floating) |\n",
    "|`r.isConstant()` | Is the variable constant? (can also do `r.getAttribute(\"Constant\")`) |\n",
    "|`r.getMin()` | Get the lower boundary of the range (lowest possible value of variable) |\n",
    "|`r.getMax()` | Get the upper boundary of the range (highest possible value of variable) |\n",
    "|`r.setVal(x)`| change the value of the variable (respects range boundaries i.e. you cannot set value outside of the min and max) |\n",
    "|`r.setRange(low,high)`| change the range of the RooRealVar |\n",
    "|`r.hasError()`| does the var have a defined error? |\n",
    "|`r.getError()`| get the error |\n",
    "|`r.setError(x)`| set the error |\n",
    "|`r.Print()`| shows current value, error (if defined), range, and constant status (marked by a \"C\" for constant) |\n"
   ]
  },
  {
   "cell_type": "code",
   "execution_count": null,
   "id": "bce83568",
   "metadata": {},
   "outputs": [],
   "source": [
    "r = rs.getObject(\"myVar\")\n",
    "\n",
    "# play here with access r, e.g.\n",
    "r.Print()"
   ]
  },
  {
   "cell_type": "code",
   "execution_count": null,
   "id": "e991793c",
   "metadata": {},
   "outputs": [],
   "source": [
    "## For all the exercises you put your answers inside the test functions (rs.test_XX(...))\n",
    "\n",
    "rs.test_1a( True/False ) # is r constant? Delete as appropriate\n",
    "\n",
    "# change r's value to 7 and set its error to 4, and set its range to 0-10\n",
    "# CODE HERE\n",
    "\n",
    "rs.test_1b(r)\n",
    "\n",
    "r.Print() # see the impact of your changes"
   ]
  },
  {
   "cell_type": "markdown",
   "id": "db86d139",
   "metadata": {},
   "source": [
    "### Collections of variables: [RooArgSet](https://root.cern.ch/doc/v624/classRooArgSet.html) and [RooArgList](https://root.cern.ch/doc/v624/classRooArgList.html)\n",
    "RooFit has two container types for collections of variables:\n",
    "\n",
    "  1. A `RooArgList` behaves a bit like a python list (or c++ vector) of variables, i.e. access ith variable with `l[i]` **but you can't use negative numbers to access elements from the back**\n",
    "  2. A `RooArgSet`, is an unordered set of variables, but you can access variable \"v\" with `s[\"v\"]`, so in this sense it is a bit like a python dictionary. \n",
    "  \n",
    "Both types of collection are iterable, i.e. you can do things like:\n",
    "\n",
    "```\n",
    "for v in mySet:\n",
    "  if (v.ClassName()==\"RooRealVar\")): # this is how to know the 'type' of the variable\n",
    "      print(\"Variable name = \", v.GetName(), \" value = \", v.getVal())\n",
    "```\n",
    "  \n",
    "You will encounter both in this tutorial. You need to know how to access the variables in the collections and how to copy values from one collection to another. Both collection types share many methods, here's some to be aware of:\n",
    "\n",
    "| Method name | Description |\n",
    "|-------------|-------------|\n",
    "|`coll.Print()` | print names of the variables in the collection|\n",
    "|`coll.Print(\"v\")`| print names and values of the variables|\n",
    "|`coll.size()`| number of variables in the collection (len(coll) also works)|\n",
    "|`coll.find(vName)`| find variable by name, returns null object (`==None`) if not found|\n",
    "|`coll.clone(\"newName\")`| create a copy of the collection, but containing references to the same variables |\n",
    "|`coll.snapshot()`| create an *indepedent copy* of the contents of the collection (i.e. copies the content as well) |\n",
    "|`coll.assignValueOnly(another_coll)`| copy values from any variable in another_coll with matching names over to coll|\n",
    "|`coll.selectCommon(another_coll)` | a new collection containing variables in coll that are also in another_coll (by name)|\n",
    "|`coll.selectByAttrib(\"Constant\",True)`| select only the constant variables (change to False to select floating)|\n",
    "|`coll.setAttribAll(\"Constant\",True)`| set all constant (change to False to make all floating)|\n",
    "|`coll.add(var_or_coll`)| adding a variable to a collection or all variables in a collection to this collection|\n",
    "|`coll.remove(var_or_coll)`| remove a variable or collection of variables from this collections |\n",
    "\n",
    "Note that the `remove` method will only remove the variable that exactly matches the variable(s) passed to the method, i.e. it wont remove copies of the variables that have the same name but are independent (and therefore different objects). However, the `selectCommon` method will match variables by name, so you can remove by name with: `coll.remove(coll.selectCommon(other_coll))`\n"
   ]
  },
  {
   "cell_type": "code",
   "execution_count": null,
   "id": "60f726cf",
   "metadata": {},
   "outputs": [],
   "source": [
    "s = rs.getObject(\"mySet\")\n",
    "l = rs.getObject(\"myList\")"
   ]
  },
  {
   "cell_type": "code",
   "execution_count": null,
   "id": "15cf4b62",
   "metadata": {},
   "outputs": [],
   "source": [
    "# What is the name of last variable in l ? \n",
    "rs.test_2a( ... )"
   ]
  },
  {
   "cell_type": "code",
   "execution_count": null,
   "id": "27f30de2",
   "metadata": {},
   "outputs": [],
   "source": [
    "# what is the value of variable called \"bar\" in s ?\n",
    "rs.test_2b( ... )"
   ]
  },
  {
   "cell_type": "code",
   "execution_count": null,
   "id": "acff8e6e",
   "metadata": {},
   "outputs": [],
   "source": [
    "# Create a collection of the floating variables in s\n",
    "rs.test_2c( ...  )"
   ]
  },
  {
   "cell_type": "code",
   "execution_count": null,
   "id": "7b7a9e9e",
   "metadata": {},
   "outputs": [],
   "source": [
    "# Create a collection of the variables that are in s but not in l (by name)\n",
    "# hint: one solution would involve starting by creating a clone of the set\n",
    "...\n",
    "rs.test_2d( ... )"
   ]
  },
  {
   "cell_type": "markdown",
   "id": "cc0089c1",
   "metadata": {},
   "source": [
    "### Datasets: [RooDataSet](https://root.cern.ch/doc/v624/classRooDataSet.html) (with a RooArgSet)\n",
    "\n",
    "Recall that a dataset is:\n",
    "\n",
    "  * a table where the rows are (possibly weighted) \"entries\" and the columns are the observables, \n",
    "  * and an additional collection of global observable values. \n",
    "  \n",
    "In RooFit the values of the global observables are stored in a `RooArgSet` snapshot, and the values of the observables for each entry are held in a `RooDataSet`. When a dataset is unbinned, the entries in the dataset are unweighted (i.e. each entry has a weight of 1) and so there is one entry for each event. When a dataset is binned, there is one entry for each bin of the model and the weight of the entry is equal to the number of events seen in that bin.\n",
    "\n",
    "Note that RooFit will soon allow the `RooDataSet` to store the `RooArgSet` of global observable values, but at the moment you have to carry around the pair of objects yourself. \n",
    "\n",
    "In this tutorial you wont be creating any datasets yourself so we will focus only on how you access the contents of a `RooDataSet`. Here are the most basic operations you might do with a dataset:\n",
    "\n",
    "| Method name | Description |\n",
    "|-------------|-------------|\n",
    "|`d.get(i)`| Returns a `RooArgSet` of the ith entry (row) of a dataset |\n",
    "|`d.numEntries()`| Number of entries in the dataset  |\n",
    "|`d.weight()`| Weight of the row of the dataset that was last accessed with `get` |\n",
    "|`d.sumEntries()`| Returns sum of the weights of all the entries in the dataset |\n",
    "|`d.Print()` | Print summary of number of entries in the dataset and the names of the observables |\n",
    "\n",
    "The `RooArgSet` of the global observable values for the dataset will currently stored elsewhere but in future versions of ROOT it will be part of the dataset (as it should be)."
   ]
  },
  {
   "cell_type": "code",
   "execution_count": null,
   "id": "7fcb9720",
   "metadata": {},
   "outputs": [],
   "source": [
    "d = rs.getObject(\"myData\")\n",
    "d.Print()"
   ]
  },
  {
   "cell_type": "code",
   "execution_count": null,
   "id": "645da228",
   "metadata": {},
   "outputs": [],
   "source": [
    "# what is the name of the discrete variable in the dataset?\n",
    "\n",
    "...\n",
    "\n",
    "rs.test_3a( varName )"
   ]
  },
  {
   "cell_type": "code",
   "execution_count": null,
   "id": "91096aaa",
   "metadata": {},
   "outputs": [],
   "source": [
    "# what is the weight of the last entry in the dataset?\n",
    "\n",
    "...\n",
    "\n",
    "rs.test_3b( weight )"
   ]
  },
  {
   "cell_type": "markdown",
   "id": "1c39bd5e",
   "metadata": {},
   "source": [
    "### PDFs: [RooAbsPdf](https://root.cern.ch/doc/v624/classRooAbsPdf.html)\n",
    "In RooFit a RooAbsPdf is just a **function of variables** with some complicated built-in machinary for normalizing the pdf. \n",
    "\n",
    "Get the variables of the function using `model.getVariables()` which returns a `RooArgSet` of all the variables of the model.\n",
    "\n",
    "To evaluate the PDF at a particular point in the observable space, call `getVal(normSet)` where normSet is a RooArgSet of the variables of the PDF to treat as observables. you must first have set all the observables to the value you want to evaluate at. Note that you can create a `RooArgSet` containing a single variable using the constructor: `ROOT.RooArgSet(var)`"
   ]
  },
  {
   "cell_type": "code",
   "execution_count": null,
   "id": "9a352ea1",
   "metadata": {},
   "outputs": [],
   "source": [
    "m = rs.getObject(\"myModel\")\n",
    "m.Print()"
   ]
  },
  {
   "cell_type": "code",
   "execution_count": null,
   "id": "01b7770f",
   "metadata": {},
   "outputs": [],
   "source": [
    "# Exercise: plot a graph of the PDF as a function of variable \"x\" (i.e. consider \"x\" to be the observable)\n",
    "# Note: the PDF has other variables, these are considered the parameters -- leave them at their current values\n",
    "# The plot should cover points from the min up to the max value of the variable range in steps of 0.2\n",
    "\n",
    "graph = ROOT.TGraph()\n",
    "\n",
    "var = ...\n",
    "\n",
    "import numpy as np\n",
    "for x in np.arange(... , ... ,0.2):\n",
    "    ...\n",
    "    graph.AddPoint( ... , ... ) # first arg is x-axis coord, second arg is y-axis coord\n",
    "\n",
    "rs.test_4a(graph)\n",
    "\n",
    "graph.Draw(\"AL\")\n",
    "ROOT.gPad.Draw() # show the current canvas"
   ]
  },
  {
   "cell_type": "markdown",
   "id": "bfae5d62",
   "metadata": {},
   "source": [
    "`RooAbsPdf`, like all functions in `RooFit`, are actually built as functions of other functions. In this way, all functions can be thought as trees (or graphs to use the proper terminology), where the nodes of the tree are the functions and the branches connect to the functions that the function depends on (the *servers*). The fundamental types (`RooRealVar` and `RooCategory`) are functions that depend on no other functions, so are the *leafs* of these trees. \n",
    "\n",
    "![Example of a tree graph](treegraph.png \"Tree Graph\")\n",
    "\n",
    "In the above picture, nodes 8-14 would be fundamental types, and the other nodes would be functions or PDFs. \n",
    "\n",
    "In `RooFit` terminology, every function has a list of `servers` that it depends on, as well as a list of `clients` that depend on it:\n",
    "\n",
    "  * A *top-level* pdf (or function) is one that has no clients (it's at the top of the tree).\n",
    "  * The fundamental types have no servers (it's at the bottom of the tree).\n",
    "  \n",
    "The `clients()` and `servers()` method respectively return an iterable over the clients and servers of the function respectively. For example, you can use `len(pdf.clients())==0` to identify the top-level pdf in a list of pdfs."
   ]
  },
  {
   "cell_type": "markdown",
   "id": "fe6b52f6",
   "metadata": {},
   "source": [
    "### Saving to models and datasets: [RooWorkspace](https://root.cern.ch/doc/v624/classRooWorkspace.html)\n",
    "\n",
    "The `RooWorkspace` is an object that can contains datasets, models, and in fact can store all sorts of other types of object. It is the standard way that `RooFit` objects are saved to a file. \n",
    "\n",
    "Note: The methods below work because a `RooArgSet` (or `RooArgList`) are allowed to contain functions and pdfs as well as fundamental type variables.\n",
    "\n",
    "| Method name | Description |\n",
    "|-------------|-------------|\n",
    "|`w.allVars()`| Returns a `RooArgSet` of all the continuous-valued variables in the workspace. |\n",
    "|`w.allCats()`| Returns a `RooArgSet` of all the discrete-valued variables in the workspace. |\n",
    "|`w.allPdfs()`| Returns a `RooArgSet` of all the pdfs in the workspace. |\n",
    "|`w.allData()`| Returns an `std::list` of the datasets in the workspace (can iterate over like a python list). |\n",
    "|`w.getSnapshot(name)` | Returns a `RooArgSet` that has been saved to the workspace. This is currently how global observable values of datasets are saved in workspaces. The `name` is the name of the snapshot. |\n"
   ]
  },
  {
   "cell_type": "code",
   "execution_count": null,
   "id": "1a4bbe9c",
   "metadata": {},
   "outputs": [],
   "source": [
    "w = rs.getObject(\"myWorkspace\")"
   ]
  },
  {
   "cell_type": "code",
   "execution_count": null,
   "id": "5711580d",
   "metadata": {},
   "outputs": [],
   "source": [
    "# What is the name of the top-level pdf in the workspace (hint: see the info about servers and clients of PDFs in the section above)\n",
    "\n",
    "...\n",
    "\n",
    "rs.test_5a( pdfName )"
   ]
  },
  {
   "cell_type": "code",
   "execution_count": null,
   "id": "a0f32796",
   "metadata": {},
   "outputs": [],
   "source": [
    "# What is the name of the only dataset in the workspace?\n",
    "# hint: convert std::list to python list with: py_list = [a for a in std_list]\n",
    "\n",
    "...\n",
    "\n",
    "rs.test_5b( dsName )"
   ]
  },
  {
   "cell_type": "code",
   "execution_count": null,
   "id": "d62ad430",
   "metadata": {},
   "outputs": [],
   "source": [
    "# The global observables of this dataset are saved in a \"snapshot\" that has the same name as the dataset.\n",
    "# Access the snapshot and access the name and value of the global observable (there's only 1 in the snapshot):\n",
    "\n",
    "...\n",
    "\n",
    "rs.test_5c( globName, globVal )"
   ]
  },
  {
   "cell_type": "markdown",
   "id": "255281a9",
   "metadata": {},
   "source": [
    "### Fit Results: [RooFitResult](https://root.cern.ch/doc/v624/classRooFitResult.html)\n",
    "A `RooFitResult` is the type of object used to hold the information about the result of a fit, which is just the minimization of a NLL function. Specifically, a `RooFitResult` has the following important methods:\n",
    "\n",
    "| Method name | Description |\n",
    "|-------------|-------------|\n",
    "|`fr.status()` | Status code of the fit (an integer). 0 means the fit was good, non zero means some aspect of the result is suspect/untrustworthy. The interpretation of non-zero status codes is regretfully 'minimizer specific' i.e. it depends exactly how the fit was performed, but as a rule you should only fully trust fits with status = 0. |\n",
    "|`fr.minNll()` | The post-fit value of the NLL function i.e. $-\\text{ln}L(\\alpha,\\hat{\\beta})$ where $\\alpha$ are the constant parameters and $\\beta$ are the floating parameters. |\n",
    "|`ft.edm()` | The estimated 'vertical' distance to the minimum, which in many ways you can think of as the uncertainty on the `minNll` value |\n",
    "|`fr.floatParsFinal()`| A `RooArgList` of the post-fit parameter values, with errors set to the hessian-estimated error. |\n",
    "|`fr.constPars()` | A `RooArgList` of the parameter values of the constant parameters. |\n",
    "|`fr.floatParsInit()` | A `RooArgList` of the pre-fit parameter values. |\n",
    "|`fr.covarianceMatrix()` | Access the post-fit covariance matrix (as a `TMatrixD`) of the floating parameters. The order of the parameters in the `floatParsFinal()` list corresponds to the order of the elements in the covariance matrix. |\n",
    "\n",
    "We haven't got any exercises for you to play with fit results ... but we will do a lot of that in the main session, so see you then!!!"
   ]
  },
  {
   "cell_type": "code",
   "execution_count": null,
   "id": "9b9d634c",
   "metadata": {},
   "outputs": [],
   "source": []
  }
 ],
 "metadata": {
  "kernelspec": {
   "display_name": "Python 3",
   "language": "python",
   "name": "python3"
  },
  "language_info": {
   "codemirror_mode": {
    "name": "ipython",
    "version": 3
   },
   "file_extension": ".py",
   "mimetype": "text/x-python",
   "name": "python",
   "nbconvert_exporter": "python",
   "pygments_lexer": "ipython3",
   "version": "3.7.3"
  }
 },
 "nbformat": 4,
 "nbformat_minor": 5
}
