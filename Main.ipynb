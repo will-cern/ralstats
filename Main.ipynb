{
 "cells": [
  {
   "cell_type": "code",
   "execution_count": 1,
   "id": "ae7756b4",
   "metadata": {},
   "outputs": [
    {
     "name": "stdout",
     "output_type": "stream",
     "text": [
      "Welcome to JupyROOT 6.26/04\n"
     ]
    }
   ],
   "source": [
    "%run ralstats.py"
   ]
  },
  {
   "cell_type": "markdown",
   "id": "963999c7",
   "metadata": {},
   "source": [
    "# RAL Hands-on \"Statistical Analysis Lab\" Session\n",
    "\n",
    "In this session you will learn how to perform the most common statistical analysis tasks, building things up from two fundamental operations: *fitting* and *generating*.\n",
    "\n",
    "### Learning Objectives\n",
    "\n",
    "In this session we will go cover the operations involved in the calculation of:\n",
    "\n",
    "    1. Exclusion Limits\n",
    "    2. Discovery p-values\n",
    "    3. Parameter estimation, asymmetric errors, and impact calculation\n",
    "\n",
    "In your real work it is likely that you will utilise one of the many \"statistical toolkits\" that have been developed that will automate the calculation and visualization of these analyses for you. The objective of this session is to give you the **confidence that you understand what the toolkits *should* be doing** under the hood, and know how to interrogate the calculations they are making by **asking sensible questions** of those toolkits. This is an important skill because there are lots of ways in which these analyses can go wrong, and so **understanding what the calculations are doing is essential for enabling you to effectively debug problems.**\n",
    "\n",
    "The tutorial uses the RooFit statistical modelling toolkit, but minimal experience of the classes of this toolkit are required.\n",
    "\n",
    "### Basic functions\n",
    "\n",
    "The following functions are provided for you in this session:\n",
    "\n",
    "| function | arguments | description |\n",
    "|----------|-----------|---------------|\n",
    "| `getWorkspace(day,month)` | `day`: Your birthday day of month (1-31)<br>`month`: Your birthday month of year (1-12) | Returns a `RooWorkspace` containing the model and data you will use |\n",
    "| `plot(model,dataset)` | `model`: the model (a `RooAbsPdf`)<br>`dataset`: the dataset (a `RooDataSet`) | A visualization of the model and dataset, taking into account the current values of the parameters of the model. It shows one plot for each channel of the model, and a plot for each global observable overlaying its corresponding probability distribution in the model. |\n",
    "| `fit(model,dataset)` | As above | Returns a `RooFitResult` from fitting the model to the data. The floating parameters of the model are the ones that are not marked constant at the time the function is called.\n",
    "| `generate(model, fitResult=None, expected=False)` | `model`: As above<br>`fitResult`: The `RooFitResult` used to set all the parameters of the model to before generating<br>`expected`: if `True` will return the asimov dataset rather than a random toy | Returns a `RooDataSet` of the dataset. Note: if no fit result is passed, the current values of the parameters are used. |"
   ]
  },
  {
   "cell_type": "markdown",
   "id": "65aed196",
   "metadata": {},
   "source": [
    "## Getting to know our model\n",
    "\n",
    "There unfortunately isn't time in this session to teach you about building models. So we provide you one instead. Access it with the `getWorkspace` function and lets familiarize ourself with it:"
   ]
  },
  {
   "cell_type": "code",
   "execution_count": 2,
   "id": "230db9eb",
   "metadata": {},
   "outputs": [
    {
     "name": "stdout",
     "output_type": "stream",
     "text": [
      "[#1] INFO:Fitting -- using CPU computation library compiled with -mavx2\n",
      "[#1] INFO:ObjectHandling -- RooWorkspace::import(combined) importing dataset obsData\n"
     ]
    }
   ],
   "source": [
    "w = getWorkspace(18,6)"
   ]
  },
  {
   "cell_type": "markdown",
   "id": "50b0bfe0",
   "metadata": {},
   "source": [
    "<span style=\"color:orange\">**Task: Determine the name of the top-level pdf in the workspace, and the name of the dataset in the workspace (there is only 1) ...**</span>"
   ]
  },
  {
   "cell_type": "code",
   "execution_count": 3,
   "id": "79197f71",
   "metadata": {},
   "outputs": [],
   "source": [
    "pdfName = None\n",
    "for a in w.allPdfs(): \n",
    "    if len(a.clients())==0: pdfName = a.GetName()\n",
    "for a in w.allData():\n",
    "    dataName = a.GetName()"
   ]
  },
  {
   "cell_type": "markdown",
   "id": "f08c619a",
   "metadata": {},
   "source": [
    "<span style=\"color:orange\">**Task: Access the model, dataset from the workspace ...**</span>"
   ]
  },
  {
   "cell_type": "code",
   "execution_count": 4,
   "id": "0b608960",
   "metadata": {},
   "outputs": [],
   "source": [
    "model = w.pdf(pdfName)\n",
    "obsData = w.data(dataName)"
   ]
  },
  {
   "cell_type": "code",
   "execution_count": 5,
   "id": "5f4a4c46",
   "metadata": {},
   "outputs": [
    {
     "data": {
      "image/png": "[encoded data removed]",
      "text/plain": [
       "<IPython.core.display.Image object>"
      ]
     },
     "metadata": {},
     "output_type": "display_data"
    }
   ],
   "source": [
    "plot(model,obsData)"
   ]
  },
  {
   "cell_type": "markdown",
   "id": "2cc6e1cd",
   "metadata": {},
   "source": [
    "Discussion: What are we seeing?\n",
    "\n",
    "<span style=\"color:orange\">**Task: Access the variables of the model and understand what they represent. Which are observables, global observables, and parameters? Change the parameter values and replot the model to understand their effect. Generate some toy datasets and visualize them too, and try running a fit...**</span>"
   ]
  },
  {
   "cell_type": "code",
   "execution_count": 6,
   "id": "6374fdb6",
   "metadata": {},
   "outputs": [
    {
     "name": "stdout",
     "output_type": "stream",
     "text": [
      "  1) 0x555ab36d7e90 RooRealVar::               1 = 1 C  L(-INF - +INF)  \"1\"\n",
      "  2) 0x555ab384f980 RooRealVar::       alpha_par = 5 +/- 1  L(0 - 100)  \"alpha_par\"\n",
      "  3) 0x555ab2118220 RooCategory::      channelCat = RegionA(idx = 0)\n",
      "  \"channelCat\"\n",
      "  4) 0x555ab3851240 RooRealVar:: globs_alpha_par = 14.9 C  L(-5 - 15)  \"globs_alpha_par\"\n",
      "  5) 0x555aaf8623a0 RooRealVar::           m_obs = 149  L(90 - 150) B(30)  \"M [GeV]\"\n",
      "  6) 0x555ab3a52300 RooRealVar::              mu = 0  L(0 - 100)  \"mu\"\n",
      "  7) 0x555ab3a50d70 RooRealVar::        sig_mass = 110 C  L(-INF - +INF)  \"sig_mass\"\n",
      "  8) 0x555ab3a50330 RooRealVar::       sig_width = 2 C  L(-INF - +INF)  \"sig_width\"\n"
     ]
    }
   ],
   "source": [
    "model.getVariables().Print(\"v\")\n"
   ]
  },
  {
   "cell_type": "markdown",
   "id": "8b3c407e",
   "metadata": {},
   "source": [
    "<span style=\"color:orange\">**Task: Assign the variables representing signal mass and signal strength to the python variables below...**</span>"
   ]
  },
  {
   "cell_type": "code",
   "execution_count": 7,
   "id": "eca684c8",
   "metadata": {},
   "outputs": [],
   "source": [
    "mass_var = model.getVariables()[\"sig_mass\"]\n",
    "mu_var = model.getVariables()[\"mu\"]"
   ]
  },
  {
   "cell_type": "markdown",
   "id": "351060b5",
   "metadata": {},
   "source": [
    "## Hypothesis Testing: Exclusions and Discovery\n",
    "\n",
    "Exclusions and Discovery plots are just a way of presenting the results of a collection of Hypothesis Tests. A Hypothesis Test is really the process of calculating a p-value and seeing whether its less than or greater than a  critical value (0.05 in the case of 95% CL). The procedure for making these plots is as follows:\n",
    "\n",
    "  1. Define a `Hypothesis Space`, which involves deciding which parameters of the BSM model we want to scan over.\n",
    "      (elsewhere people call this a *parameter grid*):\n",
    "  2. Choose a `Test Statistic` to perform hypothesis tests with, the normal choice is:\n",
    "      * Exclusions: A one-sided *capped-above* Profile Likelihood Ratio Test Statistic ($q_\\mu$ or $\\tilde{q}_\\mu$)\n",
    "      * Discovery: A one-sided *capped-below* Profile Likelihood Ratio Test Statistic $q_0$\n",
    "  3. Choose a definition of `P Value` to use, there are three types:\n",
    "      * null p-value: The p-value under the null hypothesis (the hypothesis being tested)\n",
    "         * In exclusion tests the null hypothsesis is a particular s+b hypothesis, and null p-value is sometimes then called the CLs+b p-value.\n",
    "         * In discovery tests the null hypothesis is the bkg-only hypothesis, and the null p-value is sometimes called the $p_0$ p-value.\n",
    "      * alt p-value: The p-value under an alternative hypothesis (only relevant for exclusions), also calld the CLb p-value\n",
    "      * CLs p-value: The ratio of the above two p-values\n",
    "  4. Find the contour of `Hypothesis Points` in your `Hypothesis Space` where your chosen p-value equals the critical value (0.05 for a 95% confidence limit). This is usually done by selecting a grid of points in the space and computing the p-value for each (aka doing a hypothesis test), then interpolating between them to give you a contour. \n",
    "  5. `Expected` contours can also be computed by throwing toys from the expected hypothesis and computing the median p-value of these toys at each hypothesis point. The contour is drawn as before by interpolating these median p-values across the space. 1 sigma and 2 sigma \"bands\" can be computed by examining a different p-value than the median one, as we will discuss later.\n",
    "      * Note that the expected contour is often instead estimated by using the *Asimov Dataset* which corresponds to the expected data under the alternative hypothesis. This is not quite the same as using toys but usually gives a very similar result."
   ]
  },
  {
   "cell_type": "markdown",
   "id": "bf34f94a",
   "metadata": {},
   "source": [
    "### 1. The Hypothesis Space\n",
    "\n",
    "Our hypothesis space will span signal mass in the x-axis, and signal strength in the y-axis. We will leave signal width fixed. Note that you don't have to choose signal strength as one of your space axis parameters, SUSY analyses for example often scan over a pair of masses and leave signal strength fixed to 1. \n",
    "\n",
    "We'll use a `TGraph` to keep track of which points we are running hypothesis tests for"
   ]
  },
  {
   "cell_type": "code",
   "execution_count": 8,
   "id": "56914bb8",
   "metadata": {},
   "outputs": [
    {
     "name": "stderr",
     "output_type": "stream",
     "text": [
      "Info in <TCanvas::MakeDefCanvas>:  created default TCanvas with name c1\n"
     ]
    },
    {
     "data": {
      "image/png": "[encoded data removed]",
      "text/plain": [
       "<IPython.core.display.Image object>"
      ]
     },
     "metadata": {},
     "output_type": "display_data"
    }
   ],
   "source": [
    "hypoSpace = ROOT.TGraph()\n",
    "hypoSpace.SetTitle(\"Hypothesis Space;M [GeV];\\mu\")\n",
    "\n",
    "# start with just some points @ mu=1\n",
    "mass_var.setVal(90.0)\n",
    "mu_var.setVal(1.0)\n",
    "\n",
    "while mass_var.getVal()<=150.0:\n",
    "    hypoSpace.AddPoint(mass_var.getVal(),mu_var.getVal())\n",
    "    mass_var.setVal(mass_var.getVal()+5.0)\n",
    "\n",
    "myPlot = ROOT.gROOT.MakeDefCanvas()\n",
    "hypoSpace.Draw(\"AP\")\n",
    "myPlot.Draw()"
   ]
  },
  {
   "cell_type": "markdown",
   "id": "9a0bb5e4",
   "metadata": {},
   "source": [
    "### 2. The Test Statistic \n",
    "\n",
    "The test statistics we are using today are all based on the *(two-sided) profile likelihood ratio*, $t_\\mu$:\n",
    "\n",
    "$$\n",
    "t_\\mu = -2\\text{ln}\\left( \\frac{L(\\mu,\\hat{\\hat{\\theta}})}{L(\\hat{\\mu},\\hat{\\theta})}\\right)\n",
    "$$\n",
    "\n",
    "The test statistic we will use for limits is the *one-sided capped-above profile likelihood ratio* , $q_\\mu$:\n",
    "\n",
    "$$\n",
    "q_\\mu = \\begin{cases}\n",
    "    t_\\mu \\text{ if $\\hat\\mu < \\mu$,} \\\\\n",
    "    0 \\text{ if $\\hat\\mu >= \\mu$}.\n",
    "    \\end{cases}\n",
    "$$\n",
    "\n",
    "The test statistic we will use discovery is the *one-sided capped-below profile likelihood ratio*, $q_0$:\n",
    "\n",
    "$$\n",
    "q_0 = \\begin{cases}\n",
    "    t_{\\mu=0} \\text{ if $\\hat\\mu > 0$,} \\\\\n",
    "    0 \\text{ if $\\hat\\mu <= 0$}.\n",
    "    \\end{cases}\n",
    "$$\n",
    "\n",
    "Question: Are the one-sided test statistics continuous or do they have a jump in them? What happens when $\\hat{\\mu} = \\mu$ ? \n",
    "\n",
    "<span style=\"color:orange\">**Task: Implement a function that can calculate any of these profile likelihood test statistics ...**</span>"
   ]
  },
  {
   "cell_type": "code",
   "execution_count": 9,
   "id": "4625e844",
   "metadata": {},
   "outputs": [],
   "source": [
    "def pll(mu_test, data, oneSided=False, cappedAbove=True):\n",
    "    mu_var.setConstant(False)\n",
    "    ufit = fit(model,data)\n",
    "    if ufit.status()!=0:\n",
    "        print(\"Unconditional fit failed\",ufit.status())\n",
    "        return None\n",
    "    if oneSided:\n",
    "        if cappedAbove and ufit.floatParsFinal().find(mu_var.GetName()).getVal() >= mu_test: return 0.0\n",
    "        if not cappedAbove and ufit.floatParsFinal().find(mu_var.GetName()).getVal() <= mu_test: return 0.0\n",
    "    mu_var.setVal(mu_test)\n",
    "    mu_var.setConstant(True)\n",
    "    cfit = fit(model,data)\n",
    "    if cfit.status()!=0:\n",
    "        print(\"Conditional fit failed\",cfit.status())\n",
    "        return None\n",
    "    return 2.*(cfit.minNll() - ufit.minNll())"
   ]
  },
  {
   "cell_type": "markdown",
   "id": "0723bb73",
   "metadata": {},
   "source": [
    "Now we use your function to evaluate the test statistic with the observed data at $\\mu=1$ at different values of signal mass."
   ]
  },
  {
   "cell_type": "code",
   "execution_count": 10,
   "id": "0aabd84a",
   "metadata": {},
   "outputs": [
    {
     "data": {
      "image/png": "[encoded data removed]",
      "text/plain": [
       "<IPython.core.display.Image object>"
      ]
     },
     "metadata": {},
     "output_type": "display_data"
    }
   ],
   "source": [
    "c = ROOT.TCanvas()\n",
    "c.DivideSquare(4)\n",
    "\n",
    "obs_plls = ROOT.TGraph()\n",
    "obs_plls.SetTitle(\"One-sided Profile Likelihood Test Statistic;M [GeV];\\\\tilde{q}_{\\mu=1}\")\n",
    "\n",
    "for i in range(hypoSpace.GetN()):\n",
    "    mass_var.setVal(hypoSpace.GetPointX(i))\n",
    "    obs_pll = pll(hypoSpace.GetPointY(i),obsData,True)\n",
    "    obs_plls.AddPoint(mass_var.getVal(),obs_pll)\n",
    "    \n",
    "c.SetSelectedPad( c.GetPad(1).cd() )\n",
    "obs_plls.DrawClone(\"ALP\")\n",
    "c.Draw()"
   ]
  },
  {
   "cell_type": "markdown",
   "id": "dae30424",
   "metadata": {},
   "source": [
    "Questions:\n",
    "   * What is the meaning of this test statistic value? What does a small or big value mean?\n",
    "   * Why this test statistic for hypothesis testing?"
   ]
  },
  {
   "cell_type": "markdown",
   "id": "e797f92b",
   "metadata": {},
   "source": [
    "### 3. The P-Value\n",
    "\n",
    "Now, this is the computationally difficult bit. We need to know the p-value of our observed test statistic values. For the CLs+b p-value this is the fraction of toys generated under the null hypothesis that had a test statistic value greater than the one we observed. The CLb is similar but with toys generated under the alternative hypothesis. \n",
    "\n",
    "<span style=\"color:orange\">**Task: Implement a function that can generate the test statistic distribution from toys for a single hypothesis point and use it to estimate the p-value for a single point ...**</span>"
   ]
  },
  {
   "cell_type": "code",
   "execution_count": 12,
   "id": "c5c30419",
   "metadata": {},
   "outputs": [
    {
     "name": "stderr",
     "output_type": "stream",
     "text": [
      "100%|██████████| 2000/2000 [02:09<00:00, 15.45it/s]\n",
      "100%|██████████| 1000/1000 [01:28<00:00, 11.28it/s]\n",
      "Warning in <TLegend::Paint>: Legend too large to be automatically placed; a default position is used\n"
     ]
    },
    {
     "data": {
      "image/png": "[encoded data removed]",
      "text/plain": [
       "<IPython.core.display.Image object>"
      ]
     },
     "metadata": {},
     "output_type": "display_data"
    }
   ],
   "source": [
    "def pvalue(nToys, mu_true, obs_ts):\n",
    "    mu_test = mu_var.getVal()\n",
    "    hist = ROOT.TH1D(\"toys\",\"\",100,0,2*obs_ts)\n",
    "    hist.SetDirectory(0)\n",
    "    \n",
    "    mu_var.setVal(mu_true)\n",
    "    mu_var.setConstant()\n",
    "    true_fit = fit(model,obsData)\n",
    "        \n",
    "    nUp = 0\n",
    "    for i in tqdm.tqdm(range(nToys)):\n",
    "        mu_var.setVal(mu_test)\n",
    "        toy_ts = pll(mu_test,generate(model,true_fit),True)\n",
    "        if toy_ts is None: continue # should really handle bad fits\n",
    "        nUp += (toy_ts >= obs_ts)\n",
    "        hist.Fill(toy_ts)\n",
    "    \n",
    "    # convert hist into a PDF by normalizing and dividing by bin width\n",
    "    hist.Scale(1./(nToys*hist.GetBinWidth(1)))\n",
    "    \n",
    "    # leave mu at its original value\n",
    "    mu_var.setVal(mu_test)\n",
    "    \n",
    "    hist.SetTitle(\"M = {} GeV, \\mu' = {} : pval = {};q_{{\\mu={}}}\".format(mass_var.getVal(),mu_true,nUp/nToys,mu_test))\n",
    "    \n",
    "    return nUp/nToys , hist \n",
    "\n",
    "mu_var.setVal(hypoSpace.GetPointY(5))\n",
    "mass_var.setVal(hypoSpace.GetPointX(5))\n",
    "pval_clsb, nullHist = pvalue(2000,1,obs_plls.GetPointY(5))\n",
    "pval_clb, altHist = pvalue(1000,0,obs_plls.GetPointY(5))\n",
    "\n",
    "nullHist.SetLineColor(ROOT.kBlue);altHist.SetLineColor(ROOT.kRed)\n",
    "myPlot.cd(); myPlot.SetLogy()\n",
    "nullHist.DrawClone(\"histe\");altHist.DrawClone(\"histe same\")\n",
    "myPlot.BuildLegend()\n",
    "l = ROOT.TLine();l.SetLineWidth(2);l.DrawLine(obs_plls.GetPointY(5),0,obs_plls.GetPointY(5),1) # obs ts value\n",
    "myPlot.Draw()"
   ]
  },
  {
   "cell_type": "markdown",
   "id": "946d0466",
   "metadata": {},
   "source": [
    "Questions:\n",
    "\n",
    "  * Why do the alt hypothesis toys take longer to run than the null hypothesis toys?\n",
    "     ans: alt toys more frequently need the conditional fit as well as the unconditional fit\n",
    "  * How would we extract the expected p-value from this plot?\n",
    "  * Should p-values have an uncertainty?"
   ]
  },
  {
   "cell_type": "markdown",
   "id": "3492a18b",
   "metadata": {},
   "source": [
    "### A shortcut to p-values: Asymptotic formulae\n",
    "\n"
   ]
  },
  {
   "cell_type": "code",
   "execution_count": 13,
   "id": "cb9f5a36",
   "metadata": {},
   "outputs": [
    {
     "name": "stdout",
     "output_type": "stream",
     "text": [
      "Help on function asymptotic_pvalue_qmu in module __main__:\n",
      "\n",
      "asymptotic_pvalue_qmu(qmu, mu, mu_prime, sigma_mu, mu_min=-inf, mu_max=inf)\n",
      "    Returns the asymptotic p-value of qmu test statistic \n",
      "    qmu : the one-sided-positive test statistic value \n",
      "    mu : the null hypothesis mu value\n",
      "    mu_prime : the true hypothesis mu value ( = mu for null hypothesis )\n",
      "    sigma_mu : stdev of mu_hat under the true hypothesis (estimate as |mu - mu_prime|/sqrt(tmu(asimov_mu_prime)))\n",
      "    mu_min : min value of mu\n",
      "    mu_max : max value of mu\n",
      "\n"
     ]
    }
   ],
   "source": [
    "help(asymptotic_pvalue_qmu)"
   ]
  },
  {
   "cell_type": "markdown",
   "id": "c454617c",
   "metadata": {},
   "source": [
    "<span style=\"color:orange\">**Task: Write a function to fill a graph with the PDF of the asymptotic p-value. Use it to explore the shape of the function for different values of $\\sigma_{\\hat{\\mu}}$ and $\\mu$ ...**</span>"
   ]
  },
  {
   "cell_type": "code",
   "execution_count": 14,
   "id": "4d5f0dc6",
   "metadata": {},
   "outputs": [
    {
     "data": {
      "image/png": "[encoded data removed]",
      "text/plain": [
       "<IPython.core.display.Image object>"
      ]
     },
     "metadata": {},
     "output_type": "display_data"
    }
   ],
   "source": [
    "def asymptotic_graph(mu_test, mu_prime, sigma_mu):\n",
    "    out = ROOT.TGraph(); out.SetLineWidth(2); out.SetTitle(\";q_{{\\mu={}}}\".format(mu_test))\n",
    "    pval = 1.;qmu = 0; step = 0.01\n",
    "    while pval > 0.0001:\n",
    "        next_pval = asymptotic_pvalue_qmu(qmu+step, mu_test, mu_prime, sigma_mu, 0)\n",
    "        out.AddPoint(qmu+0.5*step, (pval-next_pval)/step)\n",
    "        pval = next_pval\n",
    "        qmu += step\n",
    "    return out\n",
    "    \n",
    "myPlot.cd()\n",
    "myPlot.Clear()\n",
    "myPlot.Divide(2,1)\n",
    "myPlot.cd(1)\n",
    "asymptotic_graph(4,0,0.5).DrawClone(\"AL\")\n",
    "asymptotic_graph(4,0,1).DrawClone(\"L\").SetLineColor(ROOT.kRed)\n",
    "asymptotic_graph(4,0,2).DrawClone(\"L\").SetLineColor(ROOT.kBlue)\n",
    "myPlot.cd(2).SetLogy()\n",
    "asymptotic_graph(4,4,0.5).DrawClone(\"AL\")\n",
    "asymptotic_graph(4,4,1).DrawClone(\"L\").SetLineColor(ROOT.kRed)\n",
    "asymptotic_graph(4,4,2).DrawClone(\"L\").SetLineColor(ROOT.kBlue)\n",
    "myPlot.Draw()"
   ]
  },
  {
   "cell_type": "markdown",
   "id": "ac15c5c0",
   "metadata": {},
   "source": [
    "Questions:\n",
    "  * How does the asymptotic distribution depend on $\\sigma_{\\hat{\\mu}}$ parameter?\n",
    "  * What happens when plotting the null hypothesis distribution for $\\mu=0$? Why? Ans: it's a delta function @ 0 because all mu_hat are > 0 so qmu is always 0"
   ]
  },
  {
   "cell_type": "markdown",
   "id": "c3af3006",
   "metadata": {},
   "source": [
    "To use the asymptotic formulae we will need to estimate $\\sigma_{\\hat{\\mu}}$, which we can do with the asimov dataset (the expected dataset) and using the formula:\n",
    "$$\n",
    "\\sigma_{\\hat{\\mu}}\\approx\\frac{\\mu - \\mu'}{\\sqrt{t_\\mu( D_{exp}(\\mu') )}}\n",
    "$$\n",
    "\n",
    "where $\\mu$ is the hypothesis being tested, $\\mu'$ is the 'true' hypothesis, $t_\\mu(...)$ is the regular (two-sided) profile likelihood ratio, and $D_{exp}(\\mu')$ is the asimov dataset under the $\\mu'$ hypothesis.\n",
    "\n",
    "Task: Write code to estimate $\\sigma_{\\hat{\\mu}}$ for the hypothesis points in our hypothesis space:"
   ]
  },
  {
   "cell_type": "code",
   "execution_count": 15,
   "id": "eecd5c1e",
   "metadata": {},
   "outputs": [
    {
     "data": {
      "image/png": "[encoded data removed]",
      "text/plain": [
       "<IPython.core.display.Image object>"
      ]
     },
     "metadata": {},
     "output_type": "display_data"
    }
   ],
   "source": [
    "sigma_mus = ROOT.TGraph()\n",
    "sigma_mus.SetTitle(\"std deviation of \\hat{\\mu};M [GeV];\\sigma_{\\mu}\")\n",
    "\n",
    "# can do this here because cfit for all signals will be same for mu=0\n",
    "mu_alt = 0\n",
    "mu_var.setVal(mu_alt); mu_var.setConstant(True)\n",
    "cfit = fit(model,obsData)\n",
    "asimovData = generate(model,cfit,True)\n",
    "\n",
    "import math\n",
    "for i in range(hypoSpace.GetN()):\n",
    "    mass_var.setVal(hypoSpace.GetPointX(i))\n",
    "    mu_test = hypoSpace.GetPointY(i)\n",
    "    asimov_pll = pll(mu_test,asimovData,False)\n",
    "    if not asimov_pll: continue\n",
    "    sigma_mu = (mu_test-mu_alt)/math.sqrt( asimov_pll )\n",
    "    sigma_mus.AddPoint(hypoSpace.GetPointX(i),sigma_mu)\n",
    "    \n",
    "c.cd(2)\n",
    "sigma_mus.Draw(\"ALP\")\n",
    "c.Draw()"
   ]
  },
  {
   "cell_type": "markdown",
   "id": "1c97a206",
   "metadata": {},
   "source": [
    "Discussion: Interpretation of $\\sigma_{\\hat{\\mu}}$ distribution...\n",
    "Question: Cause of uptick in the $\\sigma_{\\hat{\\mu}}$ at the end of the mass observable space? Could be an edge-effect of the model (the signal shape leaking out of range so effective mu decreases perhaps, so more variable). \n",
    "\n",
    "Now that we have computed $\\sigma_{\\hat{\\mu}}$ values, plot the asymptotic distribution on top of the toy distribution you generated earlier for a single hypothesis point to assess if for that particular point if we are in the \"asymptotic regime\" ..."
   ]
  },
  {
   "cell_type": "code",
   "execution_count": 16,
   "id": "393b28c4",
   "metadata": {},
   "outputs": [
    {
     "data": {
      "image/png": "[encoded data removed]",
      "text/plain": [
       "<IPython.core.display.Image object>"
      ]
     },
     "metadata": {},
     "output_type": "display_data"
    }
   ],
   "source": [
    "nullGr = asymptotic_graph(1,1,sigma_mus.GetPointY(5))\n",
    "altGr = asymptotic_graph(1,0,sigma_mus.GetPointY(5))\n",
    "nullGr.SetLineColor(nullHist.GetLineColor())\n",
    "altGr.SetLineColor(altHist.GetLineColor())\n",
    "\n",
    "myPlot.cd()\n",
    "nullHist.DrawClone(\"histe\");altHist.DrawClone(\"histe same\")\n",
    "nullGr.Draw(\"L\"); altGr.Draw(\"L\")\n",
    "myPlot.Draw()"
   ]
  },
  {
   "cell_type": "markdown",
   "id": "c8f9829a",
   "metadata": {},
   "source": [
    "<span style=\"color:orange\">**Task: Now use the asymptotic formulae function (`asymptotic_pvalue_qmu`) to graph the asymptotic CLs p-value across all the hypothesis points .. hint: you need to use your obs_plls and sigma_mus:**</span>"
   ]
  },
  {
   "cell_type": "code",
   "execution_count": 17,
   "id": "8399046b",
   "metadata": {},
   "outputs": [
    {
     "data": {
      "image/png": "[encoded data removed]",
      "text/plain": [
       "<IPython.core.display.Image object>"
      ]
     },
     "metadata": {},
     "output_type": "display_data"
    }
   ],
   "source": [
    "obs_pvals = ROOT.TGraph()\n",
    "obs_pvals.SetTitle(\"Observed CLs p-value;M [GeV];Observed p_{CLs}\")\n",
    "\n",
    "for i in range(hypoSpace.GetN()):\n",
    "    psb = asymptotic_pvalue_qmu(obs_plls.GetPointY(i), hypoSpace.GetPointY(i), hypoSpace.GetPointY(i), sigma_mus.GetPointY(i), 0)\n",
    "    pb = asymptotic_pvalue_qmu(obs_plls.GetPointY(i), hypoSpace.GetPointY(i), 0, sigma_mus.GetPointY(i), 0)\n",
    "    obs_pvals.AddPoint(hypoSpace.GetPointX(i),psb/pb)\n",
    "    \n",
    "c.cd(3)\n",
    "obs_pvals.Draw(\"ALP\")\n",
    "ROOT.gPad.SetGridy()\n",
    "c.Draw()"
   ]
  },
  {
   "cell_type": "markdown",
   "id": "6129e61f",
   "metadata": {},
   "source": [
    "## 4. Finding the P-Value Contours\n",
    "\n",
    "Now that we have a quick way to estimate p-values, our objective is to find the contour of hypothesis points in a full hypothesis where the p-value equals the critical value. \n",
    "\n",
    "Question: For a 95% CL limit, what is the critical value?"
   ]
  },
  {
   "cell_type": "markdown",
   "id": "af6acbc7",
   "metadata": {},
   "source": [
    "<span style=\"color:orange\">**Task: Define a full 2D hypothesis space, scanning mu values from 0.1 to 4.9 in steps of 0.2, and mass values from 90-150 in steps of 5 GeV:**</span>"
   ]
  },
  {
   "cell_type": "code",
   "execution_count": 18,
   "id": "7885f7dc",
   "metadata": {},
   "outputs": [],
   "source": [
    "fullHypoSpace = ROOT.TGraph()\n",
    "fullHypoSpace.SetTitle(\"Full Hypothesis Space;M [GeV];\\mu\")\n",
    "mu_var.setVal(0.1)\n",
    "while mu_var.getVal()<=4.9:\n",
    "    mass_var.setVal(90.0)\n",
    "    while mass_var.getVal()<=150.0:\n",
    "        fullHypoSpace.AddPoint(mass_var.getVal(),mu_var.getVal())\n",
    "        mass_var.setVal(mass_var.getVal()+5)\n",
    "    mu_var.setVal(mu_var.getVal()+0.2)"
   ]
  },
  {
   "cell_type": "markdown",
   "id": "7adc9847",
   "metadata": {},
   "source": [
    "<span style=\"color:orange\">**Task: Use the asymptotic formulae function to compute the p-values across the full hypothesis space:**</span>"
   ]
  },
  {
   "cell_type": "code",
   "execution_count": 25,
   "id": "11ae8869",
   "metadata": {},
   "outputs": [
    {
     "name": "stderr",
     "output_type": "stream",
     "text": [
      " 14%|█▍        | 43/312 [00:03<00:18, 14.36it/s]"
     ]
    },
    {
     "name": "stdout",
     "output_type": "stream",
     "text": [
      "Unconditional fit failed -1\n",
      "skipping 100.0 0.7\n"
     ]
    },
    {
     "name": "stderr",
     "output_type": "stream",
     "text": [
      "100%|██████████| 312/312 [00:26<00:00, 11.92it/s]\n"
     ]
    }
   ],
   "source": [
    "# now get p-value at every point in hypospace and plot contour where equals 0.05\n",
    "full_obs_pvals = ROOT.TGraph2D();full_obs_pvals.SetTitle(\"Observed CLs p-values;M [GeV];\\mu\")\n",
    "full_sigma_mu = ROOT.TGraph2D(); # use this to save all the sigma_mu values\n",
    "\n",
    "for i in tqdm.tqdm(range(fullHypoSpace.GetN())):\n",
    "    mass_var.setVal(fullHypoSpace.GetPointX(i));\n",
    "    asimov_pll = pll(fullHypoSpace.GetPointY(i),asimovData,False)\n",
    "    if not asimov_pll: \n",
    "        print(\"skipping\",fullHypoSpace.GetPointX(i),fullHypoSpace.GetPointY(i))\n",
    "        full_sigma_mu.AddPoint(fullHypoSpace.GetPointX(i),fullHypoSpace.GetPointY(i),0)\n",
    "        continue\n",
    "    sigma_mu = (mu_var.getVal()-mu_alt)/math.sqrt( asimov_pll )\n",
    "    full_sigma_mu.AddPoint(fullHypoSpace.GetPointX(i),fullHypoSpace.GetPointY(i),sigma_mu)\n",
    "    obs_pll = pll(fullHypoSpace.GetPointY(i),obsData,True)\n",
    "    \n",
    "    p_null = asymptotic_pvalue_qmu(obs_pll, fullHypoSpace.GetPointY(i), fullHypoSpace.GetPointY(i), sigma_mu, 0)\n",
    "    p_alt = asymptotic_pvalue_qmu(obs_pll, fullHypoSpace.GetPointY(i), 0, sigma_mu, 0)    \n",
    "    full_obs_pvals.AddPoint(fullHypoSpace.GetPointX(i),fullHypoSpace.GetPointY(i),p_null/p_alt if p_alt>0 else (1 if p_null==p_alt else float('nan')))"
   ]
  },
  {
   "cell_type": "code",
   "execution_count": 26,
   "id": "228389d2",
   "metadata": {},
   "outputs": [
    {
     "data": {
      "image/png": "[encoded data removed]",
      "text/plain": [
       "<IPython.core.display.Image object>"
      ]
     },
     "metadata": {},
     "output_type": "display_data"
    }
   ],
   "source": [
    "# visualize our p-value graph\n",
    "myPlot.cd()\n",
    "full_obs_pvals.Draw(\"LEGO\");\n",
    "myPlot.Draw()"
   ]
  },
  {
   "cell_type": "markdown",
   "id": "db9badb4",
   "metadata": {},
   "source": [
    "These p-value 2D graphs are used to extract the 95% CLs limits. This is done by finding the contours where the p-value equals 0.05.\n",
    "\n",
    "Question: What piece of information would we need in order to compute an expected limit contour?\n",
    "\n",
    "<span style=\"color:orange\">**Task: Use the `asymptotic_expected_qmu` function provided in this lab to compute the p-value graphs for $-2\\sigma$ to $2\\sigma$:**</span>"
   ]
  },
  {
   "cell_type": "code",
   "execution_count": 27,
   "id": "0465df98",
   "metadata": {},
   "outputs": [
    {
     "name": "stdout",
     "output_type": "stream",
     "text": [
      "Help on function asymptotic_expected_qmu in module __main__:\n",
      "\n",
      "asymptotic_expected_qmu(pvalue, mu, mu_prime, sigma_mu, mu_min=-inf, mu_max=inf)\n",
      "    Returns the qmu test statistic value corresponding to a given given p-value:\n",
      "      pvalue : The pvalue that the returning test statistic would have under the true hypothesis (mu_prime)\n",
      "      mu : The null hypothesis value of mu\n",
      "      mu_prime : the true hypothesis mu value ( = mu for null hypothesis )\n",
      "      sigma_mu : stdev of mu_hat under the true hypothesis (estimate as |mu - mu_prime|/sqrt(tmu(asimov_mu_prime))). Dependence on this parameter disappears for mu=mu_prime=0. \n",
      "      mu_min : min value of mu\n",
      "      mu_max : max value of mu\n",
      "\n"
     ]
    }
   ],
   "source": [
    "help(asymptotic_expected_qmu)"
   ]
  },
  {
   "cell_type": "code",
   "execution_count": 28,
   "id": "52abea5d",
   "metadata": {},
   "outputs": [
    {
     "name": "stderr",
     "output_type": "stream",
     "text": [
      "100%|██████████| 312/312 [00:00<00:00, 547.26it/s]\n"
     ]
    }
   ],
   "source": [
    "# we will keep the collection of expected p-values in a dictionary of graphs\n",
    "# a defaultdict is just a way to have a dictionary that will automatically create a new TGraph2D for us\n",
    "# when we access a new key in the dictionary\n",
    "from collections import defaultdict\n",
    "full_exp_pvals = defaultdict(ROOT.TGraph2D)\n",
    "for i in tqdm.tqdm(range(fullHypoSpace.GetN())):\n",
    "    mass_var.setVal(fullHypoSpace.GetPointX(i));\n",
    "    sigma_mu = full_sigma_mu.GetZ()[i] \n",
    "    \n",
    "    def doExpected(nSigma):\n",
    "        exp_pll = asymptotic_expected_qmu(ROOT.Math.normal_cdf(nSigma),fullHypoSpace.GetPointY(i), 0, sigma_mu,0)\n",
    "        p_null = asymptotic_pvalue_qmu(exp_pll, fullHypoSpace.GetPointY(i), fullHypoSpace.GetPointY(i), sigma_mu, 0)\n",
    "        p_alt = asymptotic_pvalue_qmu(exp_pll, fullHypoSpace.GetPointY(i), 0, sigma_mu, 0)    \n",
    "        full_exp_pvals[nSigma].AddPoint(fullHypoSpace.GetPointX(i),fullHypoSpace.GetPointY(i),p_null/p_alt if p_alt>0 else (1 if p_null==p_alt else float('nan')))\n",
    "        if nSigma > 0: doExpected(-nSigma)\n",
    "    \n",
    "    doExpected(0); doExpected(1); doExpected(2)"
   ]
  },
  {
   "cell_type": "markdown",
   "id": "a12442e0",
   "metadata": {},
   "source": [
    "The following code block will do the contour finding from your p-value graphs and visualize the results for you.\n",
    "\n",
    "Discussion point: Interpolating significances rather than p-values "
   ]
  },
  {
   "cell_type": "code",
   "execution_count": 29,
   "id": "7c735b3b",
   "metadata": {},
   "outputs": [
    {
     "data": {
      "image/png": "[encoded data removed]",
      "text/plain": [
       "<IPython.core.display.Image object>"
      ]
     },
     "metadata": {},
     "output_type": "display_data"
    }
   ],
   "source": [
    "# This code is one way to estimate the pvalue=0.05 contours in your graphs. \n",
    "# It will also combine the +/-1sigma and +/-2sigma contours so that they can be visualized as \n",
    "# green and yellow 'bands' respectively\n",
    "\n",
    "c.cd(4);\n",
    "obs_limit = full_obs_pvals.GetContourList(0.05).At(0)\n",
    "exp_limit = full_exp_pvals[0].GetContourList(0.05).At(0)\n",
    "exp2_limit = full_exp_pvals[2].GetContourList(0.05).At(0)\n",
    "expm2_limit = full_exp_pvals[-2].GetContourList(0.05).At(0)\n",
    "\n",
    "# combine the two contours so can draw as a 'band'\n",
    "exp2_limit.Sort();expm2_limit.Sort(ROOT.TGraph.CompareX,False)\n",
    "l = ROOT.TList(); l.Add(expm2_limit)\n",
    "exp2_limit.Merge(l)\n",
    "\n",
    "exp1_limit = full_exp_pvals[1].GetContourList(0.05).At(0)\n",
    "expm1_limit = full_exp_pvals[-1].GetContourList(0.05).At(0)\n",
    "\n",
    "# likewise for 1sigma 'band'\n",
    "exp1_limit.Sort();expm1_limit.Sort(ROOT.TGraph.CompareX,False)\n",
    "l = ROOT.TList(); l.Add(expm1_limit)\n",
    "exp1_limit.Merge(l)\n",
    "\n",
    "exp2_limit.SetFillColor(ROOT.kYellow)\n",
    "exp1_limit.SetFillColor(ROOT.kGreen)\n",
    "exp_limit.SetLineStyle(2)\n",
    "exp2_limit.SetTitle(\"95\\% CLs Limit;M [GeV];\\mu\");\n",
    "exp2_limit.SetMinimum(0.0)\n",
    "exp2_limit.Draw(\"AF\")\n",
    "exp1_limit.Draw(\"F\")\n",
    "exp_limit.Draw(\"L\")\n",
    "obs_limit.Draw(\"L\")\n",
    "\n",
    "c.Draw()"
   ]
  },
  {
   "cell_type": "markdown",
   "id": "9fddbdae",
   "metadata": {},
   "source": [
    "Discussion: It still took a while to get the p-value of every point in the hypothesis space. How could we be even more efficient with our exclusion limit calculation? "
   ]
  },
  {
   "cell_type": "markdown",
   "id": "612646fd",
   "metadata": {},
   "source": [
    "## Discovery Hypothesis Testing\n",
    "\n",
    "This is a test of the SM (bkg only) hypothesis, using the \"one sided capped-below\" profile likelihood ratio as a test statistic, $q_0$, and the null hypothesis p-value. \n",
    "\n",
    "<span style=\"color:orange\">**Task: Create an appropriate discovery hypothesis space:**</span> "
   ]
  },
  {
   "cell_type": "code",
   "execution_count": 30,
   "id": "c7570ba7",
   "metadata": {},
   "outputs": [],
   "source": [
    "dHypoSpace = ROOT.TGraph()\n",
    "dHypoSpace.SetTitle(\"Discovery Hypothesis Space;M [GeV];\\mu\")\n",
    "mu_var.setVal(0)\n",
    "mass_var.setVal(90)\n",
    "while mass_var.getVal()<=150:\n",
    "    dHypoSpace.AddPoint(mass_var.getVal(),mu_var.getVal())\n",
    "    mass_var.setVal(mass_var.getVal()+5)"
   ]
  },
  {
   "cell_type": "markdown",
   "id": "a9e7058b",
   "metadata": {},
   "source": [
    "The asymptotic formula for the q0 test statistic is coded in the function `asymptotic_pvalue_q0` and there is also the function `asymptotic_expected_q0` for the value of $q_0$ corresponding to a particular p-value."
   ]
  },
  {
   "cell_type": "code",
   "execution_count": 31,
   "id": "d492d885",
   "metadata": {},
   "outputs": [
    {
     "name": "stdout",
     "output_type": "stream",
     "text": [
      "Help on function asymptotic_pvalue_q0 in module __main__:\n",
      "\n",
      "asymptotic_pvalue_q0(q0, mu, mu_prime, sigma_mu, mu_min=-inf, mu_max=inf)\n",
      "    q0 : the one-sided-negative test statistic value \n",
      "    mu : the null hypothesis mu value\n",
      "    mu_prime : the true hypothesis mu value ( = mu for null hypothesis )\n",
      "    sigma_mu : stdev of mu_hat under the true hypothesis (estimate as |mu - mu_prime|/sqrt(tmu(asimov_mu_prime))). Dependence on this parameter disappears for mu=mu_prime=0. \n",
      "    mu_min : min value of mu\n",
      "    mu_max : max value of mu\n",
      "\n",
      "Help on function asymptotic_expected_q0 in module __main__:\n",
      "\n",
      "asymptotic_expected_q0(pvalue, mu, mu_prime, sigma_mu, mu_min=-inf, mu_max=inf)\n",
      "    Returns the q0 test statistic value corresponding to a given given p-value:\n",
      "      pvalue : The pvalue that the returning test statistic would have under the true hypothesis (mu_prime)\n",
      "      mu : The null hypothesis value of mu\n",
      "      mu_prime : the true hypothesis mu value ( = mu for null hypothesis )\n",
      "      sigma_mu : stdev of mu_hat under the true hypothesis (estimate as |mu - mu_prime|/sqrt(tmu(asimov_mu_prime))). Dependence on this parameter disappears for mu=mu_prime=0. \n",
      "      mu_min : min value of mu\n",
      "      mu_max : max value of mu\n",
      "\n"
     ]
    }
   ],
   "source": [
    "help(asymptotic_pvalue_q0)\n",
    "help(asymptotic_expected_q0)"
   ]
  },
  {
   "cell_type": "markdown",
   "id": "5f4b621e",
   "metadata": {},
   "source": [
    "Note that in discovery tests it appears that the asymptotic p-value distribution doesn't depend on $\\sigma_\\mu$, so we can just use any value.\n",
    "\n",
    "<span style=\"color:orange\">**Task: Compute the null hypothesis p-values and the expected null hypothesis p-values assuming a true hypothesis of $\\mu=1$:**</span> "
   ]
  },
  {
   "cell_type": "code",
   "execution_count": 32,
   "id": "3221c4e8",
   "metadata": {},
   "outputs": [
    {
     "name": "stderr",
     "output_type": "stream",
     "text": [
      "100%|██████████| 13/13 [00:01<00:00,  8.13it/s]\n"
     ]
    },
    {
     "data": {
      "image/png": "[encoded data removed]",
      "text/plain": [
       "<IPython.core.display.Image object>"
      ]
     },
     "metadata": {},
     "output_type": "display_data"
    }
   ],
   "source": [
    "null_pvals = ROOT.TGraph()\n",
    "null_pvals.SetTitle(\"Null Hypothesis P-Values;M [GeV];pval\")\n",
    "from collections import defaultdict\n",
    "exp_pvals = defaultdict(ROOT.TGraph)\n",
    "\n",
    "for i in tqdm.tqdm(range(dHypoSpace.GetN())):\n",
    "    mass_var.setVal(dHypoSpace.GetPointX(i));\n",
    "    mu_var.setVal(1); mu_var.setConstant(True)\n",
    "    sigma_mu = 1./math.sqrt( pll(0,generate(model,fit(model,obsData),True),False) )\n",
    "    \n",
    "    obs_pll = pll(0,obsData,True,False)\n",
    "    \n",
    "    p_null = asymptotic_pvalue_q0(obs_pll, dHypoSpace.GetPointY(i), dHypoSpace.GetPointY(i), sigma_mu, 0)\n",
    "    null_pvals.AddPoint(dHypoSpace.GetPointX(i),p_null)\n",
    "    \n",
    "    def doExpected(nSigma):\n",
    "        exp_pvals[nSigma].AddPoint(dHypoSpace.GetPointX(i),\n",
    "            asymptotic_pvalue_q0(asymptotic_expected_q0(ROOT.Math.normal_cdf(nSigma),dHypoSpace.GetPointY(i), 1, sigma_mu,0), \n",
    "                             dHypoSpace.GetPointY(i), dHypoSpace.GetPointY(i), sigma_mu, 0))\n",
    "        if nSigma > 0: doExpected(-nSigma)\n",
    "        \n",
    "    doExpected(0);doExpected(1)\n",
    "        \n",
    "myPlot.cd().SetLogy()\n",
    "\n",
    "exp_pvals[-1].Sort(ROOT.TGraph.CompareX,False)\n",
    "l = ROOT.TList(); l.Add(exp_pvals[-1])\n",
    "exp_pvals[1].Merge(l)\n",
    "\n",
    "exp_pvals[1].SetFillColor(ROOT.kCyan)\n",
    "exp_pvals[1].SetTitle(\"Null Hypothesis p-values;M [GeV];pval\")\n",
    "exp_pvals[1].Draw(\"AF\")\n",
    "\n",
    "exp_pvals[0].SetLineStyle(2)\n",
    "exp_pvals[0].Draw(\"L\")\n",
    "null_pvals.Draw(\"LP\")\n",
    "l = ROOT.TLine(); l.SetLineStyle(2); l.SetLineColor(ROOT.kRed)\n",
    "def drawSigmaLine(nSigma):\n",
    "    l.DrawLine(dHypoSpace.GetPointX(0),ROOT.Math.normal_cdf_c(nSigma),dHypoSpace.GetPointX(dHypoSpace.GetN()-1),ROOT.Math.normal_cdf_c(nSigma))\n",
    "for i in range(1,6): drawSigmaLine(i)\n",
    "myPlot.Draw()"
   ]
  },
  {
   "cell_type": "markdown",
   "id": "c06178f0",
   "metadata": {},
   "source": [
    "## Measurement\n",
    "\n",
    "Now that you may have discovered something we proceed to measurements. To get a measurement of a parameter with an assigned error we need to scan the profile likelihood ratio...\n",
    "\n",
    "<span style=\"color:orange\">**Task: Scan the PLR of the mass parameter...**</span> "
   ]
  },
  {
   "cell_type": "code",
   "execution_count": 33,
   "id": "37c8139e",
   "metadata": {},
   "outputs": [
    {
     "data": {
      "image/png": "[encoded data removed]",
      "text/plain": [
       "<IPython.core.display.Image object>"
      ]
     },
     "metadata": {},
     "output_type": "display_data"
    }
   ],
   "source": [
    "pll_mass = ROOT.TGraph()\n",
    "pll_mass.SetTitle(\";M [GeV];-2ln\\Lambda\")\n",
    "\n",
    "mu_var.setConstant(False) # question: difference between floating mu vs keeping it constant\n",
    "mu_var.setVal(1)\n",
    "mass_var.setConstant(False)\n",
    "mass_var.setVal(135)\n",
    "ufit = fit(model,obsData)\n",
    "\n",
    "mass_var.setConstant(True); mass_var.setVal(90)\n",
    "while mass_var.getVal()<=150:\n",
    "    fr = fit(model,obsData)\n",
    "    pll = 2.*(fr.minNll() - ufit.minNll())\n",
    "    if pll < 3:\n",
    "        pll_mass.AddPoint(mass_var.getVal(),pll)\n",
    "    mass_var.setVal(mass_var.getVal()+(0.2 if pll<3 else 1))\n",
    "\n",
    "myPlot.cd()\n",
    "ROOT.gPad.SetLogy(False)\n",
    "pll_mass.Draw(\"ALP\")\n",
    "ROOT.gPad.Draw()"
   ]
  },
  {
   "cell_type": "markdown",
   "id": "1aec253a",
   "metadata": {},
   "source": [
    "<span style=\"color:orange\">**Task: Compare and contrast the error from the hessian (in the unconditional fit) to the *minos error*...**</span> "
   ]
  },
  {
   "cell_type": "code",
   "execution_count": 34,
   "id": "d6316414",
   "metadata": {},
   "outputs": [
    {
     "name": "stdout",
     "output_type": "stream",
     "text": [
      "up= 0.5855293817685663 down= -0.5944706182303605\n",
      "\n",
      "  RooFitResult: minimized FCN value: -8005.65, estimated distance to minimum: 1.06959e-05\n",
      "                covariance matrix quality: Full, accurate covariance matrix\n",
      "                Status : MINIMIZE=0 \n",
      "\n",
      "    Floating Parameter    FinalValue +/-  Error   \n",
      "  --------------------  --------------------------\n",
      "             alpha_par    5.0296e+00 +/-  8.46e-02\n",
      "                    mu    1.3660e+00 +/-  2.87e-01\n",
      "              sig_mass    1.2898e+02 +/-  5.91e-01\n",
      "\n"
     ]
    }
   ],
   "source": [
    "\n",
    "down = None\n",
    "up = None\n",
    "x = pll_mass.GetPointX(0)\n",
    "while up is None:\n",
    "    if not down and pll_mass.Eval(x)<1: down = x\n",
    "    if down and pll_mass.Eval(x)>1: up = x\n",
    "    x += 0.01\n",
    "        \n",
    "ufit.Print()\n",
    "\n",
    "up -= ufit.floatParsFinal().find(\"sig_mass\").getVal()\n",
    "down -= ufit.floatParsFinal().find(\"sig_mass\").getVal()\n",
    "\n",
    "print(\"up=\",up,\"down=\",down)"
   ]
  },
  {
   "cell_type": "markdown",
   "id": "cfc131a2",
   "metadata": {},
   "source": [
    "Finally, lets compute the \"impact\" of one parameter on another.\n",
    "\n",
    "<span style=\"color:orange\">**Task: Complete the function below that computes the impact of one parameter with another...**</span> "
   ]
  },
  {
   "cell_type": "code",
   "execution_count": 36,
   "id": "f953b7ba",
   "metadata": {},
   "outputs": [
    {
     "name": "stdout",
     "output_type": "stream",
     "text": [
      "sig_mass: (-0.028912124942414463, -0.016371579561779592)\n",
      "alpha_par: (-0.06392331188411426, 0.07238249785027095)\n"
     ]
    }
   ],
   "source": [
    "# just do the \"post-fit\" impact here\n",
    "def impact(ufit,poiName,npName):\n",
    "    np_nom = ufit.floatParsFinal().find(npName).getVal()\n",
    "    np_err = ufit.floatParsFinal().find(npName).getError()\n",
    "    \n",
    "    np = model.getVariables()[npName]\n",
    "    \n",
    "    # ensure all parameters of the ufit are floating\n",
    "    model.getVariables().selectCommon(ufit.floatParsFinal()).setAttribAll(\"Constant\",False)\n",
    "    \n",
    "    np.setConstant()\n",
    "    np.setVal(np_nom + np_err)\n",
    "    upfit = fit(model,obsData)\n",
    "    np.setVal(np_nom - np_err)\n",
    "    downfit = fit(model,obsData)\n",
    "    \n",
    "    poi_nom = ufit.floatParsFinal().find(poiName).getVal()\n",
    "    \n",
    "    return (upfit.floatParsFinal().find(poiName).getVal() - poi_nom) , (downfit.floatParsFinal().find(poiName).getVal() - poi_nom)\n",
    "\n",
    "print(\"sig_mass:\",impact(ufit,\"mu\",\"sig_mass\"))\n",
    "print(\"alpha_par:\",impact(ufit,\"mu\",\"alpha_par\"))"
   ]
  },
  {
   "cell_type": "markdown",
   "id": "6f6dbd27",
   "metadata": {},
   "source": [
    "Question: How is impact related to covariance?\n",
    " ans: The stronger the covariance, the stronger the impact (contrast (1,0) in the covmatrix (alpha impact) bigger than (1,2) (mass impact). Note both covariances negative, reflected in negative impact from positive shift, but covariance unable to capture the 'same side impact' feature of sig_mass which we can understand in terms of the shifting signal peak pushing down the fitted signal strength. "
   ]
  },
  {
   "cell_type": "code",
   "execution_count": 37,
   "id": "d99c2213",
   "metadata": {},
   "outputs": [
    {
     "name": "stdout",
     "output_type": "stream",
     "text": [
      "\n",
      "3x3 matrix is as follows\n",
      "\n",
      "     |      0    |      1    |      2    |\n",
      "--------------------------------------------\n",
      "   0 |    0.00716   -0.005593   0.0003021 \n",
      "   1 |  -0.005593     0.08223   -0.004442 \n",
      "   2 |  0.0003021   -0.004442      0.3492 \n",
      "\n"
     ]
    }
   ],
   "source": [
    "ufit.covarianceMatrix().Print()"
   ]
  },
  {
   "cell_type": "code",
   "execution_count": 38,
   "id": "5ca30446",
   "metadata": {},
   "outputs": [
    {
     "name": "stdout",
     "output_type": "stream",
     "text": [
      "\n",
      "  RooFitResult: minimized FCN value: -8005.65, estimated distance to minimum: 1.06959e-05\n",
      "                covariance matrix quality: Full, accurate covariance matrix\n",
      "                Status : MINIMIZE=0 \n",
      "\n",
      "    Floating Parameter    FinalValue +/-  Error   \n",
      "  --------------------  --------------------------\n",
      "             alpha_par    5.0296e+00 +/-  8.46e-02\n",
      "                    mu    1.3660e+00 +/-  2.87e-01\n",
      "              sig_mass    1.2898e+02 +/-  5.91e-01\n",
      "\n"
     ]
    }
   ],
   "source": [
    "ufit.Print()"
   ]
  },
  {
   "cell_type": "markdown",
   "id": "1da491e1",
   "metadata": {},
   "source": [
    "### What was the real mass of the particle?\n",
    "\n",
    "Run `whatIsTheAnswer(day,month)` to find out what was the actual BSM signal mass in your case ... "
   ]
  },
  {
   "cell_type": "code",
   "execution_count": 39,
   "id": "7de57200",
   "metadata": {},
   "outputs": [
    {
     "data": {
      "text/plain": [
       "130"
      ]
     },
     "execution_count": 39,
     "metadata": {},
     "output_type": "execute_result"
    }
   ],
   "source": [
    "whatIsTheAnswer(18,6)"
   ]
  },
  {
   "cell_type": "code",
   "execution_count": null,
   "id": "85fffe9f",
   "metadata": {},
   "outputs": [],
   "source": []
  }
 ],
 "metadata": {
  "kernelspec": {
   "display_name": "Python 3",
   "language": "python",
   "name": "python3"
  },
  "language_info": {
   "codemirror_mode": {
    "name": "ipython",
    "version": 3
   },
   "file_extension": ".py",
   "mimetype": "text/x-python",
   "name": "python",
   "nbconvert_exporter": "python",
   "pygments_lexer": "ipython3",
   "version": "3.7.3"
  }
 },
 "nbformat": 4,
 "nbformat_minor": 5
}
