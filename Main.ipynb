{
 "cells": [
  {
   "cell_type": "markdown",
   "id": "de919587",
   "metadata": {},
   "source": [
    "# RAL Hands-on \"Statistical Analysis Lab\" Session\n",
    "\n",
    "In this session you will learn how to perform the most common statistical analysis tasks, building things up from two fundamental operations: *fitting* and *generating*.\n",
    "\n",
    "### Learning Objectives\n",
    "\n",
    "In this session we will go cover the operations involved in the calculation of:\n",
    "\n",
    "    1. Exclusion Limits\n",
    "    2. Discovery p-values\n",
    "    3. Parameter estimation, asymmetric errors, and impact calculation\n",
    "\n",
    "In your real work it is likely that you will utilise one of the many \"statistical toolkits\" that have been developed that will automate the calculation and visualization of these analyses for you. The objective of this session is to give you the **confidence that you understand what the toolkits *should* be doing** under the hood, and know how to interrogate the calculations they are making by **asking sensible questions** of those toolkits. This is an important skill because there are lots of ways in which these analyses can go wrong, and so **understanding what the calculations are doing is essential for enabling you to effectively debug problems.**\n",
    "\n",
    "The tutorial uses the RooFit statistical modelling toolkit, but minimal experience of the classes of this toolkit are required.\n",
    "\n",
    "Start by inputting the date and month of your birthday into this first cell, and running it to produce a workspace file called `myWorkspace.root`:"
   ]
  },
  {
   "cell_type": "code",
   "execution_count": null,
   "id": "c9e9fa1e",
   "metadata": {},
   "outputs": [],
   "source": [
    "%run ralstats.py\n",
    "createWorkspace(day,month) # day: 1-31, month: 1-12"
   ]
  },
  {
   "cell_type": "markdown",
   "id": "f616636a-80f9-4afe-b1f2-eefa94444d31",
   "metadata": {},
   "source": [
    "### Basic functions\n",
    "\n",
    "We will interact with the workspace file we have created using `xRooNode`. We can create such a node with `ROOT.xRooNode(\"path/to/workspace.root\")`.\n",
    "\n",
    "We will make use of the following functions of xRooNode:\n",
    "\n",
    "| function | arguments | description |\n",
    "|----------|-----------|---------------|\n",
    "|`node[childName]`| `childName`: name of child node to access | accesses a child node (see `node.Print()` to list names of children) |\n",
    "| `node.Draw(opt)` | `opt`: \"eratio\" for drawing model node, \"same\" if drawing dataset node on top | A visualization of the model or dataset, taking into account the current values of the parameters of the model. It shows one plot for each channel of the model. |\n",
    "| `node.nll(data).minimize()` | `data`: a dataset node | Returns an `xRooFitResult` (a special smart pointer for a `RooFitResult`) from fitting the model (assumed `node`) to the data. The floating parameters of the model are the ones that are not marked constant at the time the function is called. |\n",
    "| `node.generate(fitResult, expected=False)` | `fitResult`: The `xRooFitResult` used to set all the parameters of the model to before generating. Can also just pass \"\" to take current values of the model<br>`expected`: if `True` will return the asimov dataset rather than a random toy | Returns a `RooDataSet` of the dataset, wrapped in an xRooNode. Note: if no fit result is passed, the current values of the parameters are used. |"
   ]
  },
  {
   "cell_type": "markdown",
   "id": "e2642e13",
   "metadata": {},
   "source": [
    "## Getting to know our model\n",
    "\n",
    "Create a new xRooNode, `w`, using the path to the workspace that was created above, and use its `Print()` method to inspect its content."
   ]
  },
  {
   "cell_type": "code",
   "execution_count": null,
   "id": "f01b7fde",
   "metadata": {},
   "outputs": [],
   "source": [
    "w = ..."
   ]
  },
  {
   "cell_type": "markdown",
   "id": "d31c57b2",
   "metadata": {},
   "source": [
    "<span style=\"color:orange\">**Task: Determine the name of the top-level pdf in the workspace, and the name of the dataset in the workspace (there is only 1) ...**</span>"
   ]
  },
  {
   "cell_type": "code",
   "execution_count": null,
   "id": "05667ca1",
   "metadata": {},
   "outputs": [],
   "source": [
    "pdfName = None\n",
    "dataName = None\n",
    "\n",
    "..."
   ]
  },
  {
   "cell_type": "markdown",
   "id": "8f6431be",
   "metadata": {},
   "source": [
    "<span style=\"color:orange\">**Task: Access the model, dataset from the workspace ...**</span>"
   ]
  },
  {
   "cell_type": "code",
   "execution_count": null,
   "id": "892c5de0",
   "metadata": {},
   "outputs": [],
   "source": [
    "model = ...\n",
    "obsData = ..."
   ]
  },
  {
   "cell_type": "code",
   "execution_count": null,
   "id": "c284161f",
   "metadata": {},
   "outputs": [],
   "source": [
    "model.Draw(\"eratio\") # will draw the model and data together (data is auto-drawn because obsData is \"checked\" (marked), use obsData.SetChecked(False) to de-select)\n",
    "ROOT.gPad.Draw()"
   ]
  },
  {
   "cell_type": "markdown",
   "id": "3eaea499",
   "metadata": {},
   "source": [
    "Discussion: What are we seeing?\n",
    "\n",
    "<span style=\"color:orange\">**Task: Access the variables of the model and understand what they represent. Which are observables, global observables, and parameters? Change the parameter values and replot the model to understand their effect. Generate some toy datasets and visualize them too, and try running a fit...**</span>"
   ]
  },
  {
   "cell_type": "code",
   "execution_count": null,
   "id": "eb0d5cf8",
   "metadata": {},
   "outputs": [],
   "source": [
    "...\n"
   ]
  },
  {
   "cell_type": "markdown",
   "id": "d7669f6d",
   "metadata": {},
   "source": [
    "<span style=\"color:orange\">**Task: Assign the variables representing signal mass and signal strength to the python variables below...**</span>"
   ]
  },
  {
   "cell_type": "code",
   "execution_count": null,
   "id": "e66dcb0b",
   "metadata": {},
   "outputs": [],
   "source": [
    "mass_var = ...\n",
    "mu_var = ..."
   ]
  },
  {
   "cell_type": "markdown",
   "id": "53abd6cd",
   "metadata": {},
   "source": [
    "## Hypothesis Testing: Exclusions and Discovery\n",
    "\n",
    "Exclusions and Discovery plots are just a way of presenting the results of a collection of Hypothesis Tests. A Hypothesis Test is really the process of calculating a p-value and seeing whether its less than or greater than a  critical value (0.05 in the case of 95% CL). The procedure for making these plots is as follows:\n",
    "\n",
    "  1. Define a `Hypothesis Space`, which involves deciding which parameters of the BSM model we want to scan over.\n",
    "      (elsewhere people call this a *parameter grid*):\n",
    "  2. Choose a `Test Statistic` to perform hypothesis tests with, the normal choice is:\n",
    "      * Exclusions: A one-sided *capped-above* Profile Likelihood Ratio Test Statistic ($q_\\mu$ or $\\tilde{q}_\\mu$)\n",
    "      * Discovery: A one-sided *capped-below* Profile Likelihood Ratio Test Statistic $q_0$\n",
    "  3. Choose a definition of `P Value` to use, there are three types:\n",
    "      * null p-value: The p-value under the null hypothesis (the hypothesis being tested)\n",
    "         * In exclusion tests the null hypothsesis is a particular s+b hypothesis, and null p-value is sometimes then called the CLs+b p-value.\n",
    "         * In discovery tests the null hypothesis is the bkg-only hypothesis, and the null p-value is sometimes called the $p_0$ p-value.\n",
    "      * alt p-value: The p-value under an alternative hypothesis (only relevant for exclusions), also calld the CLb p-value\n",
    "      * CLs p-value: The ratio of the above two p-values\n",
    "  4. Find the contour of `Hypothesis Points` in your `Hypothesis Space` where your chosen p-value equals the critical value (0.05 for a 95% confidence limit). This is usually done by selecting a grid of points in the space and computing the p-value for each (aka doing a hypothesis test), then interpolating between them to give you a contour. \n",
    "  5. `Expected` contours can also be computed by throwing toys from the expected hypothesis and computing the median p-value of these toys at each hypothesis point. The contour is drawn as before by interpolating these median p-values across the space. 1 sigma and 2 sigma \"bands\" can be computed by examining a different p-value than the median one, as we will discuss later.\n",
    "      * Note that the expected contour is often instead estimated by using the *Asimov Dataset* which corresponds to the expected data under the alternative hypothesis. This is not quite the same as using toys but usually gives a very similar result."
   ]
  },
  {
   "cell_type": "markdown",
   "id": "c5ac16a5",
   "metadata": {},
   "source": [
    "### 1. The Hypothesis Space\n",
    "\n",
    "Our hypothesis space will span signal mass in the x-axis, and signal strength in the y-axis. We will leave signal width fixed. Note that you don't have to choose signal strength as one of your space axis parameters, SUSY analyses for example often scan over a pair of masses and leave signal strength fixed to 1. \n",
    "\n",
    "We'll use a `TGraph` to keep track of which points we are running hypothesis tests for"
   ]
  },
  {
   "cell_type": "code",
   "execution_count": null,
   "id": "1ea47d6d",
   "metadata": {},
   "outputs": [],
   "source": [
    "hypoSpace = ROOT.TGraph()\n",
    "hypoSpace.SetTitle(\"Hypothesis Space;M [GeV];\\mu\")\n",
    "\n",
    "# start with just some points @ mu=1\n",
    "mass_var.setVal(90.0)\n",
    "mu_var.setVal(1.0)\n",
    "\n",
    "while mass_var.getVal()<=150.0:\n",
    "    hypoSpace.AddPoint(mass_var.getVal(),mu_var.getVal())\n",
    "    mass_var.setVal(mass_var.getVal()+5.0)\n",
    "\n",
    "myPlot = ROOT.gROOT.MakeDefCanvas()\n",
    "hypoSpace.Draw(\"AP\")\n",
    "myPlot.Draw()"
   ]
  },
  {
   "cell_type": "markdown",
   "id": "434712f4",
   "metadata": {},
   "source": [
    "### 2. The Test Statistic \n",
    "\n",
    "The test statistics we are using today are all based on the *(two-sided) profile likelihood ratio*, $t_\\mu$:\n",
    "\n",
    "$$\n",
    "t_\\mu = -2\\text{ln}\\left( \\frac{L(\\mu,\\hat{\\hat{\\theta}})}{L(\\hat{\\mu},\\hat{\\theta})}\\right)\n",
    "$$\n",
    "\n",
    "The test statistic we will use for limits is the *one-sided capped-above profile likelihood ratio* , $q_\\mu$:\n",
    "\n",
    "$$\n",
    "q_\\mu = \\begin{cases}\n",
    "    t_\\mu \\text{ if $\\hat\\mu < \\mu$,} \\\\\n",
    "    0 \\text{ if $\\hat\\mu >= \\mu$}.\n",
    "    \\end{cases}\n",
    "$$\n",
    "\n",
    "The test statistic we will use discovery is the *one-sided capped-below profile likelihood ratio*, $q_0$:\n",
    "\n",
    "$$\n",
    "q_0 = \\begin{cases}\n",
    "    t_{\\mu=0} \\text{ if $\\hat\\mu > 0$,} \\\\\n",
    "    0 \\text{ if $\\hat\\mu <= 0$}.\n",
    "    \\end{cases}\n",
    "$$\n",
    "\n",
    "Question: Which test statistic do are we going to use for our exclusion limits?\n",
    "\n",
    "Question: Are the one-sided test statistics continuous or do they have a jump in them? What happens when $\\hat{\\mu} = \\mu$ ? \n",
    "\n",
    "<span style=\"color:orange\">**Task: Implement a function that can calculate any of these profile likelihood test statistics ...**</span>"
   ]
  },
  {
   "cell_type": "code",
   "execution_count": null,
   "id": "0a18eea1",
   "metadata": {},
   "outputs": [],
   "source": [
    "def pll(mu_test, data, oneSided=False, cappedAbove=True):\n",
    "    mu_var.setConstant(...) # is mu floating or constant in unconditional fit\n",
    "    ufit = model.nll(data).minimize()\n",
    "    if ufit.status()!=0:\n",
    "        print(\"Unconditional fit failed\",ufit.status())\n",
    "        return None\n",
    "    if oneSided:\n",
    "        # uncomment the correct pair of lines\n",
    "        #1. \n",
    "        #if cappedAbove and ufit.floatParsFinal().find(mu_var.GetName()).getVal() <= mu_test : return 0.0\n",
    "        #if not cappedAbove and ufit.floatParsFinal().find(mu_var.GetName()).getVal() >= mu_test: return 0.0\n",
    "        #2. \n",
    "        #if cappedAbove and ufit.constPars().find(mu_var.GetName()).getVal() >= mu_test : return 0.0\n",
    "        #if not cappedAbove and ufit.constPars().find(mu_var.GetName()).getVal() <= mu_test: return 0.0\n",
    "        #3. \n",
    "        #if cappedAbove and ufit.floatParsFinal().find(mu_var.GetName()).getVal() >= mu_test : return 0.0\n",
    "        #if not cappedAbove and ufit.floatParsFinal().find(mu_var.GetName()).getVal() <= mu_test: return 0.0\n",
    "    mu_var.setVal(...);mu_var.setConstant(...) # what to set here for the conditional fit (numerator)\n",
    "    cfit = model.nll(data).minimize()\n",
    "    if cfit.status()!=0:\n",
    "        print(\"Conditional fit failed\",cfit.status())\n",
    "        return None\n",
    "    return ...expression involving cfit.minNll() and ufit.minNll()..."
   ]
  },
  {
   "cell_type": "markdown",
   "id": "81754d90",
   "metadata": {},
   "source": [
    "Now we use your function to evaluate the test statistic with the observed data at $\\mu=1$ at different values of signal mass."
   ]
  },
  {
   "cell_type": "code",
   "execution_count": null,
   "id": "7620ab00",
   "metadata": {},
   "outputs": [],
   "source": [
    "c = ROOT.TCanvas()\n",
    "c.DivideSquare(4)\n",
    "\n",
    "obs_plls = ROOT.TGraph()\n",
    "obs_plls.SetTitle(\"One-sided Profile Likelihood Test Statistic;M [GeV];\\\\tilde{q}_{\\mu=1}\")\n",
    "\n",
    "for i in range(hypoSpace.GetN()):\n",
    "    mass_var.setVal(hypoSpace.GetPointX(i))\n",
    "    obs_pll = pll(...,...,...,...)\n",
    "    obs_plls.AddPoint(mass_var.getVal(),obs_pll)\n",
    "    \n",
    "c.SetSelectedPad( c.GetPad(1).cd() )\n",
    "obs_plls.DrawClone(\"ALP\")\n",
    "c.Draw()"
   ]
  },
  {
   "cell_type": "markdown",
   "id": "a362446b",
   "metadata": {},
   "source": [
    "Questions:\n",
    "   * What is the meaning of this test statistic value? What does a small or big value mean?\n",
    "   * Why this test statistic for hypothesis testing?"
   ]
  },
  {
   "cell_type": "markdown",
   "id": "7d586fc5",
   "metadata": {},
   "source": [
    "### 3. The P-Value\n",
    "\n",
    "Now, this is the computationally difficult bit. We need to know the p-value of our observed test statistic values. For the CLs+b p-value this is the fraction of toys generated under the null hypothesis that had a test statistic value greater than the one we observed. The CLb is similar but with toys generated under the alternative hypothesis. \n",
    "\n",
    "<span style=\"color:orange\">**Task: Implement a function that can generate the test statistic distribution from toys for a single hypothesis point and use it to estimate the p-value for a single point ...**</span>"
   ]
  },
  {
   "cell_type": "code",
   "execution_count": null,
   "id": "49f87e6a",
   "metadata": {},
   "outputs": [],
   "source": [
    "def pvalue(nToys, mu_true, obs_ts):\n",
    "    mu_test = mu_var.getVal()\n",
    "    hist = ROOT.TH1D(\"toys\",\"\",100,0,2*obs_ts)\n",
    "    hist.SetDirectory(0)\n",
    "    \n",
    "    # to generate toys under the \"true\" hypothesis we need the fitResult of the obs data to that specific hypothesis\n",
    "    \n",
    "    # uncomment the correct line\n",
    "    #1.\n",
    "    #mu_var.setVal(mu_test);mu_var.setConstant()\n",
    "    #2.\n",
    "    #mu_var.setVal(mu_true);mu_var.setConstant(False)\n",
    "    #3.\n",
    "    #mu_var.setVal(mu_true);mu_var.setConstant()\n",
    "    true_fit = model.nll(obsData).minimize()\n",
    "        \n",
    "    nUp = 0\n",
    "    for i in tqdm.tqdm(range(nToys)):\n",
    "        mu_var.setVal(mu_test) # q: why might it be good to set mu_var back to mu_test before each pll evaluation?\n",
    "        toy_ts =  ... use: model.generate(true_fit) ...\n",
    "        nUp += (toy_ts >= obs_ts) # could this fail??\n",
    "        hist.Fill(toy_ts)\n",
    "    \n",
    "    # convert hist into a PDF by normalizing and dividing by bin width\n",
    "    hist.Scale(1./(nToys*hist.GetBinWidth(1)))\n",
    "    \n",
    "    # leave mu at its original value\n",
    "    mu_var.setVal(mu_test)\n",
    "    \n",
    "    hist.SetTitle(\"M = {} GeV, \\mu' = {} : pval = {};q_{{\\mu={}}}\".format(mass_var.getVal(),mu_true,nUp/nToys,mu_test))\n",
    "    \n",
    "    return nUp/nToys , hist \n",
    "\n",
    "mu_var.setVal(hypoSpace.GetPointY(5))\n",
    "mass_var.setVal(hypoSpace.GetPointX(5))\n",
    "pval_clsb, nullHist = pvalue(2000,1,obs_plls.GetPointY(5))\n",
    "pval_clb, altHist = pvalue(1000,0,obs_plls.GetPointY(5))\n",
    "\n",
    "nullHist.SetLineColor(ROOT.kBlue);altHist.SetLineColor(ROOT.kRed)\n",
    "myPlot.cd(); myPlot.SetLogy()\n",
    "nullHist.DrawClone(\"histe\");altHist.DrawClone(\"histe same\")\n",
    "myPlot.BuildLegend()\n",
    "l = ROOT.TLine();l.SetLineWidth(2);l.DrawLine(obs_plls.GetPointY(5),0,obs_plls.GetPointY(5),1) # obs ts value\n",
    "myPlot.Draw()"
   ]
  },
  {
   "cell_type": "markdown",
   "id": "8ef53fc8",
   "metadata": {},
   "source": [
    "Questions:\n",
    "\n",
    "  * Why do the alt hypothesis toys take longer to run than the null hypothesis toys?\n",
    "  * How would we extract the expected p-value from this plot?\n",
    "  * Should p-values have an uncertainty?\n",
    "  * How many toys?"
   ]
  },
  {
   "cell_type": "markdown",
   "id": "d7ef3c79",
   "metadata": {},
   "source": [
    "### A shortcut to p-values: Asymptotic formulae\n",
    "\n"
   ]
  },
  {
   "cell_type": "code",
   "execution_count": null,
   "id": "263cf274",
   "metadata": {},
   "outputs": [],
   "source": [
    "help(asymptotic_pvalue_qmu)"
   ]
  },
  {
   "cell_type": "markdown",
   "id": "c3e6117c",
   "metadata": {},
   "source": [
    "<span style=\"color:orange\">**Task: Write a function to fill a graph with the PDF of the asymptotic p-value. Use it to explore the shape of the function for different values of $\\sigma_{\\hat{\\mu}}$ and $\\mu$ ...**</span>"
   ]
  },
  {
   "cell_type": "code",
   "execution_count": null,
   "id": "b8d316e2",
   "metadata": {},
   "outputs": [],
   "source": [
    "def asymptotic_graph(mu_test, mu_prime, sigma_mu):\n",
    "    out = ROOT.TGraph(); out.SetLineWidth(2); out.SetTitle(\";q_{{\\mu={}}}\".format(mu_test))\n",
    "    pval = 1.;qmu = 0; step = 0.01\n",
    "    while pval > 0.0001:\n",
    "        # which line is right?\n",
    "        #next_pval = asymptotic_pvalue_qmu(qmu+step, mu_test, mu_prime, sigma_mu, 0)\n",
    "        #next_pval = asymptotic_pvalue_qmu(qmu, mu_test, mu_prime, sigma_mu)\n",
    "        #next_pval = asymptotic_pvalue_qmu(step, mu_test, mu_prime, sigma_mu, 0)\n",
    "        out.AddPoint(qmu+0.5*step, (pval-next_pval)/step)\n",
    "        pval = next_pval\n",
    "        qmu += step\n",
    "    return out\n",
    "    \n",
    "myPlot.cd()\n",
    "myPlot.Clear()\n",
    "myPlot.Divide(2,1)\n",
    "myPlot.cd(1)\n",
    "asymptotic_graph(4,0,0.5).DrawClone(\"AL\")\n",
    "asymptotic_graph(4,0,1).DrawClone(\"L\").SetLineColor(ROOT.kRed)\n",
    "asymptotic_graph(4,0,2).DrawClone(\"L\").SetLineColor(ROOT.kBlue)\n",
    "myPlot.cd(2).SetLogy()\n",
    "asymptotic_graph(4,4,0.5).DrawClone(\"AL\")\n",
    "asymptotic_graph(4,4,1).DrawClone(\"L\").SetLineColor(ROOT.kRed)\n",
    "asymptotic_graph(4,4,2).DrawClone(\"L\").SetLineColor(ROOT.kBlue)\n",
    "myPlot.Draw()"
   ]
  },
  {
   "cell_type": "markdown",
   "id": "8ffeba3a",
   "metadata": {},
   "source": [
    "Questions:\n",
    "  * How does the asymptotic distribution depend on $\\sigma_{\\hat{\\mu}}$ parameter?\n",
    "  * What happens when plotting the null hypothesis distribution for $\\mu=0$? Why?"
   ]
  },
  {
   "cell_type": "markdown",
   "id": "ca415bc3",
   "metadata": {},
   "source": [
    "To use the asymptotic formulae we will need to estimate $\\sigma_{\\hat{\\mu}}$, which we can do with the asimov dataset (the expected dataset) and using the formula:\n",
    "$$\n",
    "\\sigma_{\\hat{\\mu}}\\approx\\frac{\\mu - \\mu'}{\\sqrt{t_\\mu( D_{exp}(\\mu') )}}\n",
    "$$\n",
    "\n",
    "where $\\mu$ is the hypothesis being tested, $\\mu'$ is the 'true' hypothesis, $t_\\mu(...)$ is the regular (two-sided) profile likelihood ratio, and $D_{exp}(\\mu')$ is the asimov dataset under the $\\mu'$ hypothesis.\n",
    "\n",
    "Task: Write code to estimate $\\sigma_{\\hat{\\mu}}$ for the hypothesis points in our hypothesis space:"
   ]
  },
  {
   "cell_type": "code",
   "execution_count": null,
   "id": "3ff8ba65",
   "metadata": {},
   "outputs": [],
   "source": [
    "sigma_mus = ROOT.TGraph()\n",
    "sigma_mus.SetTitle(\"std deviation of \\hat{\\mu};M [GeV];\\sigma_{\\mu}\")\n",
    "\n",
    "# Generate the asimov (expected) dataset for the mu=0 hypothesis\n",
    "# need to define the appropriate 'fit result' representing that hypothesis....\n",
    "# can do this here because cfit for all signals will be same for mu=0\n",
    "mu_alt = 0\n",
    "mu_var.setVal(mu_alt); mu_var.setConstant(...)\n",
    "cfit = ...\n",
    "asimovData = model.generate(cfit,True) # the 'True' means generate expected (asimov) data - we could plot it too....\n",
    "\n",
    "import math\n",
    "for i in range(hypoSpace.GetN()):\n",
    "    mass_var.setVal(hypoSpace.GetPointX(i))\n",
    "    mu_test = hypoSpace.GetPointY(i)\n",
    "    asimov_pll = pll(...)\n",
    "    if not asimov_pll: continue\n",
    "    sigma_mu = (mu_test-mu_alt)/math.sqrt( asimov_pll )\n",
    "    sigma_mus.AddPoint(hypoSpace.GetPointX(i),sigma_mu)\n",
    "    \n",
    "c.cd(2)\n",
    "sigma_mus.Draw(\"ALP\")\n",
    "c.Draw()"
   ]
  },
  {
   "cell_type": "markdown",
   "id": "70d9a817",
   "metadata": {},
   "source": [
    "Discussion: Interpretation of $\\sigma_{\\hat{\\mu}}$ distribution...\n",
    "Question: Cause of uptick in the $\\sigma_{\\hat{\\mu}}$ at the end of the mass observable space?\n",
    "\n",
    "Now that we have computed $\\sigma_{\\hat{\\mu}}$ values, plot the asymptotic distribution on top of the toy distribution you generated earlier for a single hypothesis point to assess if for that particular point if we are in the \"asymptotic regime\" ..."
   ]
  },
  {
   "cell_type": "code",
   "execution_count": null,
   "id": "39ead15a",
   "metadata": {},
   "outputs": [],
   "source": [
    "nullGr = asymptotic_graph(1,1,sigma_mus.GetPointY(5))\n",
    "altGr = asymptotic_graph(1,0,sigma_mus.GetPointY(5))\n",
    "nullGr.SetLineColor(nullHist.GetLineColor())\n",
    "altGr.SetLineColor(altHist.GetLineColor())\n",
    "\n",
    "myPlot.cd()\n",
    "nullHist.DrawClone(\"histe\");altHist.DrawClone(\"histe same\")\n",
    "nullGr.Draw(\"L\"); altGr.Draw(\"L\")\n",
    "myPlot.Draw()"
   ]
  },
  {
   "cell_type": "markdown",
   "id": "d8fd85c1",
   "metadata": {},
   "source": [
    "<span style=\"color:orange\">**Task: Now use the asymptotic formulae function (`asymptotic_pvalue_qmu`) to graph the asymptotic CLs p-value across all the hypothesis points .. hint: you need to use your obs_plls and sigma_mus:**</span>"
   ]
  },
  {
   "cell_type": "code",
   "execution_count": null,
   "id": "b5087ae7",
   "metadata": {},
   "outputs": [],
   "source": [
    "obs_pvals = ROOT.TGraph()\n",
    "obs_pvals.SetTitle(\"Observed CLs p-value;M [GeV];Observed p_{CLs}\")\n",
    "\n",
    "for i in range(hypoSpace.GetN()):\n",
    "    # replace qmu, mu, mu_prime, and sigma_mu in the following two lines\n",
    "    \n",
    "    # choose from the following for the values for the methods below:\n",
    "    # sigma_mus.GetPointY(i) (the sigma_mu value to use for this hypoPoint)\n",
    "    # hypoSpace.GetPointY(i) (the value of mu to be tested)\n",
    "    # obs_plls.GetPointY(i) (represents the observed qmu test statistic value)\n",
    "    psb = asymptotic_pvalue_qmu(qmu, mu, mu_prime, sigma_mu, 0)\n",
    "    pb = asymptotic_pvalue_qmu(qmu, mu, mu_prime, sigma_mu, 0)\n",
    "    obs_pvals.AddPoint(hypoSpace.GetPointX(i),psb/pb)\n",
    "    \n",
    "c.cd(3)\n",
    "obs_pvals.Draw(\"ALP\")\n",
    "ROOT.gPad.SetGridy()\n",
    "c.Draw()"
   ]
  },
  {
   "cell_type": "markdown",
   "id": "c9c9c3b3",
   "metadata": {},
   "source": [
    "## 4. Finding the P-Value Contours\n",
    "\n",
    "Now that we have a quick way to estimate p-values, our objective is to find the contour of hypothesis points in a full hypothesis where the p-value equals the critical value. \n",
    "\n",
    "Question: For a 95% CL limit, what is the critical value?"
   ]
  },
  {
   "cell_type": "markdown",
   "id": "a77ceb3a",
   "metadata": {},
   "source": [
    "<span style=\"color:orange\">**Task: Define a full 2D hypothesis space, scanning mu values from 0.1 to 4.9 in steps of 0.2, and mass values from 90-150 in steps of 5 GeV:**</span>"
   ]
  },
  {
   "cell_type": "code",
   "execution_count": null,
   "id": "41d207c2",
   "metadata": {},
   "outputs": [],
   "source": [
    "fullHypoSpace = ROOT.TGraph()\n",
    "fullHypoSpace.SetTitle(\"Full Hypothesis Space;M [GeV];\\mu\")\n",
    "mu_var.setVal(0.1)\n",
    "while mu_var.getVal()<=4.9:\n",
    "    mass_var.setVal(...)\n",
    "    while mass_var.getVal()<=...:\n",
    "        fullHypoSpace.AddPoint(mass_var.getVal(),...)\n",
    "        mass_var.setVal(mass_var.getVal()+...)\n",
    "    mu_var.setVal(mu_var.getVal()+...)"
   ]
  },
  {
   "cell_type": "markdown",
   "id": "4eafaec3",
   "metadata": {},
   "source": [
    "<span style=\"color:orange\">**Task: Use the asymptotic formulae function to compute the p-values across the full hypothesis space:**</span>"
   ]
  },
  {
   "cell_type": "code",
   "execution_count": null,
   "id": "c744111a",
   "metadata": {},
   "outputs": [],
   "source": [
    "# now get p-value at every point in hypospace and plot contour where equals 0.05\n",
    "full_obs_pvals = ROOT.TGraph2D();full_obs_pvals.SetTitle(\"Observed CLs p-values;M [GeV];\\mu\")\n",
    "full_sigma_mu = ROOT.TGraph2D(); # use this to save all the sigma_mu values\n",
    "\n",
    "for i in tqdm.tqdm(range(fullHypoSpace.GetN())):\n",
    "    mass_var.setVal(fullHypoSpace.GetPointX(i));\n",
    "    asimov_pll = pll(fullHypoSpace.GetPointY(i),asimovData,...)\n",
    "    if not asimov_pll: \n",
    "        print(\"skipping\",fullHypoSpace.GetPointX(i),fullHypoSpace.GetPointY(i))\n",
    "        full_sigma_mu.AddPoint(fullHypoSpace.GetPointX(i),fullHypoSpace.GetPointY(i),0)\n",
    "        continue\n",
    "    sigma_mu = ... involves mu_var, mu_alt, and asimov_pll ...\n",
    "    full_sigma_mu.AddPoint(fullHypoSpace.GetPointX(i),fullHypoSpace.GetPointY(i),sigma_mu)\n",
    "    obs_pll = pll(fullHypoSpace.GetPointY(i),...,...)\n",
    "    \n",
    "    p_null = asymptotic_pvalue_qmu(obs_pll, fullHypoSpace.GetPointY(i), fullHypoSpace.GetPointY(i), sigma_mu, 0)\n",
    "    p_alt = asymptotic_pvalue_qmu(obs_pll, fullHypoSpace.GetPointY(i), 0, sigma_mu, 0)    \n",
    "    full_obs_pvals.AddPoint(fullHypoSpace.GetPointX(i),fullHypoSpace.GetPointY(i),p_null/p_alt if p_alt>0 else (1 if p_null==p_alt else float('nan')))"
   ]
  },
  {
   "cell_type": "code",
   "execution_count": null,
   "id": "dc7981d8",
   "metadata": {},
   "outputs": [],
   "source": [
    "# visualize our p-value graph\n",
    "myPlot.cd()\n",
    "full_obs_pvals.Draw(\"LEGO\"); # can also do COLZ draw style\n",
    "myPlot.Draw()"
   ]
  },
  {
   "cell_type": "markdown",
   "id": "2f6b05cb",
   "metadata": {},
   "source": [
    "These p-value 2D graphs are used to extract the 95% CLs limits. This is done by finding the contours where the p-value equals 0.05.\n",
    "\n",
    "Question: What piece of information would we need in order to compute an expected limit contour?\n",
    "\n",
    "<span style=\"color:orange\">**Task: Use the `asymptotic_expected_qmu` function provided in this lab to compute the p-value graphs for $-2\\sigma$ to $2\\sigma$:**</span>"
   ]
  },
  {
   "cell_type": "code",
   "execution_count": null,
   "id": "8de178ff",
   "metadata": {},
   "outputs": [],
   "source": [
    "help(asymptotic_expected_qmu)"
   ]
  },
  {
   "cell_type": "code",
   "execution_count": null,
   "id": "a75941c2",
   "metadata": {},
   "outputs": [],
   "source": [
    "# we will keep the collection of expected p-values in a dictionary of graphs\n",
    "# a defaultdict is just a way to have a dictionary that will automatically create a new TGraph2D for us\n",
    "# when we access a new key in the dictionary\n",
    "from collections import defaultdict\n",
    "full_exp_pvals = defaultdict(ROOT.TGraph2D)\n",
    "for i in tqdm.tqdm(range(fullHypoSpace.GetN())):\n",
    "    mass_var.setVal(fullHypoSpace.GetPointX(i));\n",
    "    sigma_mu = full_sigma_mu.GetZ()[i] \n",
    "    \n",
    "    def doExpected(nSigma):\n",
    "        exp_p_true = ROOT.Math.normal_cdf(nSigma) # the p-value of the nSigma toy under the true (i.e. alt) hypothesis\n",
    "        # get test statistic value corresponding to this p-value:\n",
    "        # which line is correct?\n",
    "        #exp_pll = asymptotic_expected_qmu(exp_p_true,fullHypoSpace.GetPointY(i), fullHypoSpace.GetPointY(i), sigma_mu,0)\n",
    "        #exp_pll = asymptotic_expected_qmu(exp_p_true,fullHypoSpace.GetPointY(i), 0, sigma_mu,0)\n",
    "        p_null = asymptotic_pvalue_qmu(exp_pll, fullHypoSpace.GetPointY(i), fullHypoSpace.GetPointY(i), sigma_mu, 0)\n",
    "        p_alt = ...   \n",
    "        full_exp_pvals[nSigma].AddPoint(fullHypoSpace.GetPointX(i),fullHypoSpace.GetPointY(i),p_null/p_alt if p_alt>0 else (1 if p_null==p_alt else float('nan')))\n",
    "        if nSigma > 0: doExpected(-nSigma)\n",
    "    \n",
    "    doExpected(0); doExpected(1); doExpected(2)"
   ]
  },
  {
   "cell_type": "markdown",
   "id": "9a94b7e9",
   "metadata": {},
   "source": [
    "The following code block will do the contour finding from your p-value graphs and visualize the results for you.\n",
    "\n",
    "Discussion point: Interpolating significances rather than p-values "
   ]
  },
  {
   "cell_type": "code",
   "execution_count": null,
   "id": "ca46271b",
   "metadata": {},
   "outputs": [],
   "source": [
    "# This code is one way to estimate the pvalue=0.05 contours in your graphs. \n",
    "# It will also combine the +/-1sigma and +/-2sigma contours so that they can be visualized as \n",
    "# green and yellow 'bands' respectively\n",
    "\n",
    "c.cd(4);\n",
    "obs_limit = full_obs_pvals.GetContourList(0.05).At(0)\n",
    "exp_limit = full_exp_pvals[0].GetContourList(0.05).At(0)\n",
    "exp2_limit = full_exp_pvals[2].GetContourList(0.05).At(0)\n",
    "expm2_limit = full_exp_pvals[-2].GetContourList(0.05).At(0)\n",
    "\n",
    "# combine the two contours so can draw as a 'band'\n",
    "exp2_limit.Sort();expm2_limit.Sort(ROOT.TGraph.CompareX,False)\n",
    "l = ROOT.TList(); l.Add(expm2_limit)\n",
    "exp2_limit.Merge(l)\n",
    "\n",
    "exp1_limit = full_exp_pvals[1].GetContourList(0.05).At(0)\n",
    "expm1_limit = full_exp_pvals[-1].GetContourList(0.05).At(0)\n",
    "\n",
    "# likewise for 1sigma 'band'\n",
    "exp1_limit.Sort();expm1_limit.Sort(ROOT.TGraph.CompareX,False)\n",
    "l = ROOT.TList(); l.Add(expm1_limit)\n",
    "exp1_limit.Merge(l)\n",
    "\n",
    "exp2_limit.SetFillColor(ROOT.kYellow)\n",
    "exp1_limit.SetFillColor(ROOT.kGreen)\n",
    "exp_limit.SetLineStyle(2)\n",
    "exp2_limit.SetTitle(\"95\\% CLs Limit;M [GeV];\\mu\");\n",
    "exp2_limit.SetMinimum(0.0)\n",
    "exp2_limit.Draw(\"AF\")\n",
    "exp1_limit.Draw(\"F\")\n",
    "exp_limit.Draw(\"L\")\n",
    "obs_limit.Draw(\"L\")\n",
    "\n",
    "c.Draw()"
   ]
  },
  {
   "cell_type": "markdown",
   "id": "681facef",
   "metadata": {},
   "source": [
    "Discussion: It still took a while to get the p-value of every point in the hypothesis space. How could we be even more efficient with our exclusion limit calculation? "
   ]
  },
  {
   "cell_type": "markdown",
   "id": "0ae46c34-a886-4a38-81a4-fafaab6e687d",
   "metadata": {},
   "source": [
    "### Doing all the above with xRooNode\n",
    "Of course, xRooNode has built-in limit-setting functionality. We can obtain the equivalent limit plot with just the code below:"
   ]
  },
  {
   "cell_type": "code",
   "execution_count": null,
   "id": "f5a62d3b-a99e-43b6-a5cd-651ef5c47a44",
   "metadata": {},
   "outputs": [],
   "source": [
    "limitGraphs = {} # dictionary of graph contours\n",
    "for mass in tqdm.tqdm(range(90,150,5)): # loop over mass hypothesis and perform an automated limit scan over \"mu\" (y-axis of hypospace)\n",
    "    mass_var.setVal(mass)\n",
    "    limits = model.nll(obsData).hypoSpace(\"mu\").limits() # a dict of limits ... \n",
    "    for sigma,lim in limits:\n",
    "        if sigma not in limitGraphs: limitGraphs[sigma] = ROOT.TGraphErrors()\n",
    "        limitGraphs[sigma].AddPoint(mass_var.getVal(),lim.value())\n",
    "        limitGraphs[sigma].SetPointError(limitGraphs[sigma].GetN()-1,0,lim.error())\n",
    "\n",
    "# the rest is just graph plotting, like before:\n",
    "c = ROOT.TCanvas()\n",
    "# combine the two contours so can draw as a 'band'\n",
    "limitGraphs[\"-2\"].Sort(ROOT.TGraph.CompareX,False)\n",
    "l = ROOT.TList(); l.Add(limitGraphs[\"-2\"])\n",
    "limitGraphs[\"2\"].Merge(l)\n",
    "limitGraphs[\"-1\"].Sort(ROOT.TGraph.CompareX,False)\n",
    "l = ROOT.TList(); l.Add(limitGraphs[\"-1\"])\n",
    "limitGraphs[\"1\"].Merge(l)\n",
    "\n",
    "limitGraphs[\"2\"].SetFillColor(ROOT.kYellow)\n",
    "limitGraphs[\"1\"].SetFillColor(ROOT.kGreen)\n",
    "limitGraphs[\"0\"].SetLineStyle(2)\n",
    "limitGraphs[\"2\"].SetTitle(\"95\\% CLs Limit;M [GeV];\\mu\");\n",
    "limitGraphs[\"2\"].SetMinimum(0.0)\n",
    "limitGraphs[\"2\"].Draw(\"AF\")\n",
    "limitGraphs[\"1\"].Draw(\"F\")\n",
    "limitGraphs[\"0\"].Draw(\"L\")\n",
    "limitGraphs[\"obs\"].Draw(\"L\")\n",
    "c.Draw()"
   ]
  },
  {
   "cell_type": "markdown",
   "id": "ddc713be",
   "metadata": {},
   "source": [
    "## Discovery Hypothesis Testing\n",
    "\n",
    "This is a test of the SM (bkg only) hypothesis, using the \"one sided capped-below\" profile likelihood ratio as a test statistic, $q_0$, and the null hypothesis p-value. \n",
    "\n",
    "<span style=\"color:orange\">**Task: Create an appropriate discovery hypothesis space (mass between 90 and 150 in steps of 5):**</span> "
   ]
  },
  {
   "cell_type": "code",
   "execution_count": null,
   "id": "6820ebb8",
   "metadata": {},
   "outputs": [],
   "source": [
    "dHypoSpace = ROOT.TGraph()\n",
    "dHypoSpace.SetTitle(\"Discovery Hypothesis Space;M [GeV];\\mu\")\n",
    "mu_var.setVal(...) # we are always testing the same value of mu in discovery ... which value?\n",
    "mass_var.setVal(...) # but we will move between different mass points\n",
    "while mass_var.getVal()<=...:\n",
    "    dHypoSpace.AddPoint(mass_var.getVal(),mu_var.getVal())\n",
    "    mass_var.setVal(mass_var.getVal()+...)"
   ]
  },
  {
   "cell_type": "markdown",
   "id": "c07484b9",
   "metadata": {},
   "source": [
    "The asymptotic formula for the q0 test statistic is coded in the function `asymptotic_pvalue_q0` and there is also the function `asymptotic_expected_q0` for the value of $q_0$ corresponding to a particular p-value."
   ]
  },
  {
   "cell_type": "code",
   "execution_count": null,
   "id": "e1768633",
   "metadata": {},
   "outputs": [],
   "source": [
    "help(asymptotic_pvalue_q0)\n",
    "help(asymptotic_expected_q0)"
   ]
  },
  {
   "cell_type": "markdown",
   "id": "38c69716",
   "metadata": {},
   "source": [
    "Note that in discovery tests it appears that the asymptotic p-value distribution doesn't depend on $\\sigma_\\mu$, so we can just use any value.\n",
    "\n",
    "<span style=\"color:orange\">**Task: Compute the null hypothesis p-values and the expected null hypothesis p-values assuming a true hypothesis of $\\mu=1$:**</span> "
   ]
  },
  {
   "cell_type": "code",
   "execution_count": null,
   "id": "46c509dc",
   "metadata": {},
   "outputs": [],
   "source": [
    "null_pvals = ROOT.TGraph()\n",
    "null_pvals.SetTitle(\"Null Hypothesis P-Values;M [GeV];pval\")\n",
    "from collections import defaultdict\n",
    "exp_pvals = defaultdict(ROOT.TGraph)\n",
    "\n",
    "for i in tqdm.tqdm(range(dHypoSpace.GetN())):\n",
    "    mass_var.setVal(dHypoSpace.GetPointX(i));\n",
    "    mu_var.setVal(1); mu_var.setConstant(True)\n",
    "    mu_test = ... # what value are we testing?\n",
    "    mu_true = ... # what value is assumed to be true? (read above)\n",
    "    sigma_mu = abs(mu_test - mu_true)/math.sqrt( pll(0,model.generate(model.nll(obsData).minimize(),True),False) )\n",
    "    \n",
    "    obs_pll = pll(0,obsData,True/False,True/False) # which test statistic to use ... select True/False ...\n",
    "    \n",
    "    p_null = asymptotic_pvalue_q0(obs_pll, dHypoSpace.GetPointY(i), dHypoSpace.GetPointY(i), sigma_mu, 0)\n",
    "    null_pvals.AddPoint(dHypoSpace.GetPointX(i),p_null)\n",
    "    \n",
    "    def doExpected(nSigma):\n",
    "        exp_pvals[nSigma].AddPoint(dHypoSpace.GetPointX(i),\n",
    "            asymptotic_pvalue_q0(asymptotic_expected_q0(ROOT.Math.normal_cdf(nSigma),dHypoSpace.GetPointY(i), 1, sigma_mu,0), \n",
    "                             dHypoSpace.GetPointY(i), dHypoSpace.GetPointY(i), sigma_mu, 0))\n",
    "        if nSigma > 0: doExpected(-nSigma)\n",
    "        \n",
    "    doExpected(0);doExpected(1)\n",
    "        \n",
    "myPlot.cd().SetLogy()\n",
    "\n",
    "exp_pvals[-1].Sort(ROOT.TGraph.CompareX,False)\n",
    "l = ROOT.TList(); l.Add(exp_pvals[-1])\n",
    "exp_pvals[1].Merge(l)\n",
    "\n",
    "exp_pvals[1].SetFillColor(ROOT.kCyan)\n",
    "exp_pvals[1].SetTitle(\"Null Hypothesis p-values;M [GeV];pval\")\n",
    "exp_pvals[1].Draw(\"AF\")\n",
    "\n",
    "exp_pvals[0].SetLineStyle(2)\n",
    "exp_pvals[0].Draw(\"L\")\n",
    "null_pvals.Draw(\"LP\")\n",
    "l = ROOT.TLine(); l.SetLineStyle(2); l.SetLineColor(ROOT.kRed)\n",
    "def drawSigmaLine(nSigma):\n",
    "    l.DrawLine(dHypoSpace.GetPointX(0),ROOT.Math.normal_cdf_c(nSigma),dHypoSpace.GetPointX(dHypoSpace.GetN()-1),ROOT.Math.normal_cdf_c(nSigma))\n",
    "for i in range(1,6): drawSigmaLine(i)\n",
    "myPlot.Draw()"
   ]
  },
  {
   "cell_type": "markdown",
   "id": "5f443f3c",
   "metadata": {},
   "source": [
    "## Measurement\n",
    "\n",
    "Now that you may have discovered something we proceed to measurements. To get a measurement of a parameter with an assigned error we need to scan the profile likelihood ratio...\n",
    "\n",
    "<span style=\"color:orange\">**Task: Scan the PLR of the mass parameter...**</span> "
   ]
  },
  {
   "cell_type": "code",
   "execution_count": null,
   "id": "6c183e24",
   "metadata": {},
   "outputs": [],
   "source": [
    "pll_mass = ROOT.TGraph()\n",
    "pll_mass.SetTitle(\";M [GeV];-2ln\\Lambda\")\n",
    "\n",
    "mu_var.setConstant(False) # question: difference between floating mu vs keeping it constant\n",
    "mu_var.setVal(1)\n",
    "mass_var.setConstant(False)\n",
    "mass_var.setVal(135)\n",
    "ufit = model.nll(obsData).minimize()\n",
    "\n",
    "mass_var.setConstant(True); mass_var.setVal(90)\n",
    "while mass_var.getVal()<=150:\n",
    "    fr = model.nll(obsData).minimize()\n",
    "    pll = ... formula involves ufit and fr (the conditional fit) ...\n",
    "    if pll < 3:\n",
    "        pll_mass.AddPoint(mass_var.getVal(),pll)\n",
    "    mass_var.setVal(mass_var.getVal()+(0.2 if pll<3 else 1))\n",
    "\n",
    "myPlot.cd()\n",
    "ROOT.gPad.SetLogy(False)\n",
    "pll_mass.Draw(\"ALP\")\n",
    "ROOT.gPad.Draw()"
   ]
  },
  {
   "cell_type": "markdown",
   "id": "94383a4d",
   "metadata": {},
   "source": [
    "<span style=\"color:orange\">**Task: Compare and contrast the error from the hessian (in the unconditional fit) to the *minos error*...**</span> "
   ]
  },
  {
   "cell_type": "code",
   "execution_count": null,
   "id": "4a410439",
   "metadata": {},
   "outputs": [],
   "source": [
    "\n",
    "down = None\n",
    "up = None\n",
    "\n",
    "x = pll_mass.GetPointX(0) # start at left-hand edge of pll_mass graph\n",
    "\n",
    "# scan across the mass finding where the graph becomes equal to 1 ...\n",
    "# Note: can use graph.Eval(x) to interpolate between points\n",
    "while up is None:\n",
    "    if not down and pll_mass.Eval(x)<1: down = x\n",
    "    if down and pll_mass.Eval(x)>1: up = x\n",
    "    x += 0.01\n",
    "        \n",
    "ufit.Print()\n",
    "\n",
    "up -= ufit.floatParsFinal().find(\"sig_mass\").getVal()\n",
    "down -= ufit.floatParsFinal().find(\"sig_mass\").getVal()\n",
    "\n",
    "print(\"up=\",up,\"down=\",down)"
   ]
  },
  {
   "cell_type": "markdown",
   "id": "6f6bfd0b",
   "metadata": {},
   "source": [
    "Finally, lets compute the \"impact\" of one parameter on another.\n",
    "\n",
    "<span style=\"color:orange\">**Task: Complete the function below that computes the impact of one parameter with another...**</span> "
   ]
  },
  {
   "cell_type": "code",
   "execution_count": null,
   "id": "f5e080ea",
   "metadata": {},
   "outputs": [],
   "source": [
    "# just do the \"post-fit\" impact here\n",
    "def impact(ufit,poiName,npName):\n",
    "    np_nom = ufit.floatParsFinal().find(npName).getVal()\n",
    "    np_err = ufit.floatParsFinal().find(npName).getError()\n",
    "    \n",
    "    np = model.getVariables()[npName]\n",
    "    \n",
    "    # ensure all parameters of the ufit are floating\n",
    "    model.getVariables().selectCommon(ufit.floatParsFinal()).setAttribAll(\"Constant\",False)\n",
    "    \n",
    "    # run fit where NP is moved to nom+err value and held const, and likewise at nom-err\n",
    "    np.setConstant()\n",
    "    np.setVal(np_nom + np_err)\n",
    "    upfit = model.nll(obsData).minimize()\n",
    "    np.setVal(...) # COMPLETE THIS LINE\n",
    "    downfit = model.nll(obsData).minimize()\n",
    "    \n",
    "    poi_nom = ufit.floatParsFinal().find(poiName).getVal()\n",
    "    \n",
    "    return (upfit.floatParsFinal().find(poiName).getVal() - poi_nom) , (downfit.floatParsFinal().find(poiName).getVal() - poi_nom)\n",
    "\n",
    "print(\"sig_mass:\",impact(ufit,\"mu\",\"sig_mass\"))\n",
    "print(\"alpha_par:\",impact(ufit,\"mu\",\"alpha_par\"))"
   ]
  },
  {
   "cell_type": "markdown",
   "id": "aa8ef0eb",
   "metadata": {},
   "source": [
    "Question: How is impact related to covariance?\n",
    " ans: The stronger the covariance, the stronger the impact (contrast (1,0) in the covmatrix (alpha impact) bigger than (1,2) (mass impact). Note both covariances negative, reflected in negative impact from positive shift, but covariance unable to capture the 'same side impact' feature of sig_mass which we can understand in terms of the shifting signal peak pushing down the fitted signal strength. "
   ]
  },
  {
   "cell_type": "code",
   "execution_count": null,
   "id": "65445ce6",
   "metadata": {},
   "outputs": [],
   "source": [
    "ufit.covarianceMatrix().Print()"
   ]
  },
  {
   "cell_type": "code",
   "execution_count": null,
   "id": "4035f38e",
   "metadata": {},
   "outputs": [],
   "source": [
    "ufit.Print()"
   ]
  },
  {
   "cell_type": "markdown",
   "id": "1f5480b3",
   "metadata": {},
   "source": [
    "### What was the real mass of the particle?\n",
    "\n",
    "Run `whatIsTheAnswer(day,month)` to find out what was the actual BSM signal mass in your case ... "
   ]
  },
  {
   "cell_type": "code",
   "execution_count": null,
   "id": "d810c79d",
   "metadata": {},
   "outputs": [],
   "source": [
    "whatIsTheAnswer(...,...)"
   ]
  },
  {
   "cell_type": "code",
   "execution_count": null,
   "id": "f1bfb26c",
   "metadata": {},
   "outputs": [],
   "source": []
  }
 ],
 "metadata": {
  "kernelspec": {
   "display_name": "Python 3",
   "language": "python",
   "name": "python3"
  },
  "language_info": {
   "codemirror_mode": {
    "name": "ipython",
    "version": 3
   },
   "file_extension": ".py",
   "mimetype": "text/x-python",
   "name": "python",
   "nbconvert_exporter": "python",
   "pygments_lexer": "ipython3",
   "version": "3.10.6"
  }
 },
 "nbformat": 4,
 "nbformat_minor": 5
}
